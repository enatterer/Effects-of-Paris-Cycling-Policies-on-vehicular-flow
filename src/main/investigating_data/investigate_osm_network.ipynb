{
 "cells": [
  {
   "cell_type": "code",
   "execution_count": 1,
   "metadata": {},
   "outputs": [],
   "source": [
    "import numpy as np\n",
    "import numpy.linalg as la\n",
    "import pandas as pd\n",
    "import geopandas as gpd\n",
    "from tqdm.notebook import tqdm\n",
    "\n",
    "import osmnx as ox\n",
    "import momepy\n",
    "import matplotlib.pyplot as plt\n",
    "from shapely.geometry import Polygon\n",
    "import alphashape\n",
    "from pyproj import Proj, Geod\n",
    "import ast\n",
    "from shapely.ops import cascaded_union, polygonize, unary_union\n",
    "\n",
    "data_path = '../../data/'  \n",
    "polygon_road_network = gpd.read_file(data_path + 'network/QGIS_Project/referentiel-comptages-edit.shp')\n",
    "paris_districts = gpd.read_file(data_path + 'districts_paris.geojson')\n",
    "df_car_detectors = gpd.read_file(data_path + 'all_car_detectors.geojson')\n",
    "\n",
    "paris_districts = gpd.read_file('../../data/districts_paris.geojson')\n",
    "polygon_all_districts = paris_districts.unary_union\n",
    "\n",
    "def get_exterior_coords(df, start_point, end_point):\n",
    "    filtered_gdf = df[(df[\"c_ar\"] >= start_point) & (df[\"c_ar\"] <= end_point)]\n",
    "\n",
    "    # Check if there are any polygons matching the condition\n",
    "    if not filtered_gdf.empty:\n",
    "        # Apply unary_union to combine the selected polygons into a single polygon\n",
    "        districts_polygon = unary_union(filtered_gdf[\"geometry\"])\n",
    "    else:\n",
    "        # If no polygons match the condition, union_polygon will be None\n",
    "        districts_polygon = None\n",
    "\n",
    "    return districts_polygon.exterior.coords.xy\n",
    "\n",
    "def get_polygon_geometry(df, start_point, end_point):\n",
    "    filtered_gdf = df[(df[\"c_ar\"] >= start_point) & (df[\"c_ar\"] <= end_point)]\n",
    "\n",
    "    # Check if there are any polygons matching the condition\n",
    "    if not filtered_gdf.empty:\n",
    "        # Apply unary_union to combine the selected polygons into a single polygon\n",
    "        districts_polygon = unary_union(filtered_gdf[\"geometry\"])\n",
    "    else:\n",
    "        # If no polygons match the condition, union_polygon will be None\n",
    "        districts_polygon = None\n",
    "\n",
    "    return districts_polygon\n",
    "\n",
    "def transform_highway(value):\n",
    "    if isinstance(value, list):\n",
    "        return value[0] if value else None\n",
    "    else:\n",
    "        return value\n",
    "    \n",
    "def filter_for_district(x_coords, y_coords, df):\n",
    "    district_polygon = Polygon(zip(x_coords, y_coords))\n",
    "\n",
    "    # Create a GeoDataFrame containing the district polygon\n",
    "    district_gdf = gpd.GeoDataFrame(geometry=[district_polygon], crs=df.crs)\n",
    "\n",
    "    # Use the GeoDataFrame's cx attribute to spatially filter cycleways_2010_2022\n",
    "    return gpd.overlay(df, district_gdf, how='intersection')\n",
    "\n",
    "\n",
    "def is_na_list(lst):\n",
    "    return lst is None or len(lst) == 0 or all(pd.isna(x) for x in lst)\n",
    "\n",
    "def parse_and_average_lanes(lanes_str):\n",
    "    if isinstance(lanes_str, list):\n",
    "        if is_na_list(lanes_str):\n",
    "            return np.nan\n",
    "        else: \n",
    "            return sum(map(int, lanes_str)) / len(lanes_str)\n",
    "    else:\n",
    "        if pd.isna(lanes_str):  # Check if input is NaN\n",
    "            return np.nan  # Return NaN if input is NaN\n",
    "    try:\n",
    "        # Attempt to parse the string as a list\n",
    "        lanes_list = ast.literal_eval(lanes_str)\n",
    "        if isinstance(lanes_list, list):\n",
    "            # If it's a list, calculate the average of list elements\n",
    "            return sum(map(int, lanes_list)) / len(lanes_list)\n",
    "        else:\n",
    "            # If it's a single integer, return it as is\n",
    "            return int(lanes_list)\n",
    "    except (SyntaxError, ValueError):\n",
    "        # If parsing fails or the lanes_str is not a list, parse as single integer\n",
    "        return int(lanes_str)\n",
    "\n",
    "def line_length_in_meters(line_string):\n",
    "    # Define a UTM projection for the zone containing your coordinates\n",
    "    utm_zone = 31  # Assuming you are in Paris, which falls in UTM zone 31 for example\n",
    "    proj = Proj(proj='utm', zone=utm_zone, ellps='WGS84')\n",
    "\n",
    "    # Extract coordinates from the LineString\n",
    "    coordinates = list(line_string.coords)\n",
    "\n",
    "    # Transform the coordinates to UTM projection\n",
    "    utm_coordinates = [proj(lon, lat) for lon, lat in coordinates]\n",
    "\n",
    "    # Compute the distance between consecutive points in meters\n",
    "    total_length = 0\n",
    "    geod = Geod(ellps='WGS84')\n",
    "    for i in range(len(utm_coordinates) - 1):\n",
    "        lon1, lat1 = utm_coordinates[i]\n",
    "        lon2, lat2 = utm_coordinates[i + 1]\n",
    "        distance_meters = geod.inv(lon1, lat1, lon2, lat2)[-1]  # Use [-1] to get distance\n",
    "\n",
    "        # Handle case of very small distances\n",
    "        if np.isnan(distance_meters):\n",
    "            dx = lon2 - lon1\n",
    "            dy = lat2 - lat1\n",
    "            distance_meters = np.sqrt(dx**2 + dy**2)\n",
    "        total_length += distance_meters\n",
    "\n",
    "    return total_length\n",
    "\n",
    "def map_highway(df):\n",
    "    highway_mapped = []\n",
    "    for value in df['highway']:\n",
    "        if isinstance(value, str):\n",
    "            highway_mapped.append(value)\n",
    "        elif isinstance(value, list):\n",
    "            highway_mapped.append(value[0] if len(value) > 0 else None)\n",
    "        else:\n",
    "            highway_mapped.append(None)\n",
    "    my_df = df.copy()\n",
    "    my_df['highway_mapped'] = highway_mapped\n",
    "    return my_df"
   ]
  },
  {
   "attachments": {},
   "cell_type": "markdown",
   "metadata": {},
   "source": [
    "## Abstract\n",
    "\n",
    "The goal of this notebook is to investigate the OSM (historical) network of Paris, for different districts.  "
   ]
  },
  {
   "cell_type": "code",
   "execution_count": 2,
   "metadata": {},
   "outputs": [],
   "source": [
    "x_district_1_4, y_district_1_4  = get_exterior_coords(paris_districts, 1, 4)\n",
    "x_district_5_7, y_district_5_7  = get_exterior_coords(paris_districts, 5, 7)"
   ]
  },
  {
   "cell_type": "code",
   "execution_count": 5,
   "metadata": {},
   "outputs": [
    {
     "name": "stderr",
     "output_type": "stream",
     "text": [
      "/var/folders/m_/fjnjc1sn0ggc7z_2y7n27xfh0000gn/T/ipykernel_4087/1480800201.py:6: UserWarning: Approach is not set. Defaulting to 'primal'.\n",
      "  nodes, edges_2024 = momepy.nx_to_gdf(G_2024, points=True, lines=True)\n"
     ]
    }
   ],
   "source": [
    "alpha_shape = alphashape.alphashape(polygon_road_network, 435)\n",
    "coordinates = list(alpha_shape.exterior[0].coords)\n",
    "polygon = Polygon(coordinates)\n",
    "\n",
    "G_2024 = ox.graph_from_polygon(polygon=polygon, simplify=True, network_type=\"drive\")\n",
    "nodes, edges_2024 = momepy.nx_to_gdf(G_2024, points=True, lines=True)\n",
    "\n",
    "edges_2024['lanes_mapped'] = edges_2024['lanes'].apply(parse_and_average_lanes)\n",
    "edges_2024 = map_highway(edges_2024)\n",
    "\n",
    "average_lanes_per_highway_2024 = edges_2024.groupby('highway_mapped')['lanes_mapped'].mean()"
   ]
  },
  {
   "cell_type": "code",
   "execution_count": 6,
   "metadata": {},
   "outputs": [],
   "source": [
    "# set manually values for seldom highway classifications, which don't occur in the districts.\n",
    "\n",
    "average_lanes_per_highway_2024['road'] = 2\n",
    "average_lanes_per_highway_2024['virtual'] = 1"
   ]
  },
  {
   "cell_type": "code",
   "execution_count": 7,
   "metadata": {},
   "outputs": [
    {
     "data": {
      "text/plain": [
       "highway_mapped\n",
       "living_street     1.284483\n",
       "primary           3.077149\n",
       "primary_link      1.844156\n",
       "residential       1.441355\n",
       "secondary         2.475537\n",
       "secondary_link    1.636364\n",
       "tertiary          2.072997\n",
       "tertiary_link     1.285714\n",
       "trunk             3.666667\n",
       "trunk_link        1.780000\n",
       "unclassified      1.677570\n",
       "road              2.000000\n",
       "virtual           1.000000\n",
       "Name: lanes_mapped, dtype: float64"
      ]
     },
     "execution_count": 7,
     "metadata": {},
     "output_type": "execute_result"
    }
   ],
   "source": [
    "average_lanes_per_highway_2024"
   ]
  },
  {
   "cell_type": "code",
   "execution_count": 8,
   "metadata": {},
   "outputs": [
    {
     "name": "stderr",
     "output_type": "stream",
     "text": [
      "/var/folders/m_/fjnjc1sn0ggc7z_2y7n27xfh0000gn/T/ipykernel_4087/1712476554.py:24: UserWarning: Approach is not set. Defaulting to 'primal'.\n",
      "  nodes, edges = momepy.nx_to_gdf(G, points=True, lines=True)\n"
     ]
    },
    {
     "name": "stdout",
     "output_type": "stream",
     "text": [
      " \n",
      "Year:  2023 , zone:  1\n",
      "Length in km: 84.25\n",
      "Length in lane km: 169.99334976941216\n",
      "Length of higher order roads in km: 28.75\n",
      "Length of higher order roads in lane km: 83.15877582088862\n"
     ]
    },
    {
     "name": "stderr",
     "output_type": "stream",
     "text": [
      "/var/folders/m_/fjnjc1sn0ggc7z_2y7n27xfh0000gn/T/ipykernel_4087/1712476554.py:24: UserWarning: Approach is not set. Defaulting to 'primal'.\n",
      "  nodes, edges = momepy.nx_to_gdf(G, points=True, lines=True)\n"
     ]
    },
    {
     "name": "stdout",
     "output_type": "stream",
     "text": [
      " \n",
      "Year:  2023 , zone:  2\n",
      "Length in km: 157.93\n",
      "Length in lane km: 311.76951463361\n",
      "Length of higher order roads in km: 72.52\n",
      "Length of higher order roads in lane km: 183.69892602185303\n"
     ]
    },
    {
     "name": "stderr",
     "output_type": "stream",
     "text": [
      "/var/folders/m_/fjnjc1sn0ggc7z_2y7n27xfh0000gn/T/ipykernel_4087/1712476554.py:24: UserWarning: Approach is not set. Defaulting to 'primal'.\n",
      "  nodes, edges = momepy.nx_to_gdf(G, points=True, lines=True)\n"
     ]
    },
    {
     "name": "stdout",
     "output_type": "stream",
     "text": [
      " \n",
      "Year:  2024 , zone:  1\n",
      "Length in km: 83.69\n",
      "Length in lane km: 169.1203634431486\n",
      "Length of higher order roads in km: 34.2\n",
      "Length of higher order roads in lane km: 94.62613763209538\n"
     ]
    },
    {
     "name": "stderr",
     "output_type": "stream",
     "text": [
      "/var/folders/m_/fjnjc1sn0ggc7z_2y7n27xfh0000gn/T/ipykernel_4087/1712476554.py:24: UserWarning: Approach is not set. Defaulting to 'primal'.\n",
      "  nodes, edges = momepy.nx_to_gdf(G, points=True, lines=True)\n"
     ]
    },
    {
     "name": "stdout",
     "output_type": "stream",
     "text": [
      " \n",
      "Year:  2024 , zone:  2\n",
      "Length in km: 156.92\n",
      "Length in lane km: 308.76602728909825\n",
      "Length of higher order roads in km: 72.33\n",
      "Length of higher order roads in lane km: 183.06721264183003\n"
     ]
    }
   ],
   "source": [
    "years = [2023, 2024]\n",
    "zones = [1, 2]\n",
    "\n",
    "def get_length_in_lane_km(df):\n",
    "    length_in_lane_km = 0\n",
    "    for idx, edge in df.iterrows():\n",
    "        length = edge['length_computed']\n",
    "        lanes = edge['lanes_mapped']\n",
    "        length_edge = length * lanes/1000\n",
    "        length_in_lane_km += length_edge\n",
    "    return length_in_lane_km\n",
    "\n",
    "for year in years:\n",
    "    for zone in zones:\n",
    "        if zone == 1:\n",
    "            district = get_polygon_geometry(paris_districts, 1, 4)\n",
    "        else: \n",
    "            district = get_polygon_geometry(paris_districts, 5, 7)\n",
    "        overpass_settings = '[out:json][timeout:90][date:\"' + str(year) + '-01-01T00:00:00Z\"]'\n",
    "        ox.settings.overpass_settings = overpass_settings\n",
    "        ox.settings.log_console = True\n",
    "    \n",
    "        G = ox.graph_from_polygon(polygon=district, simplify=True, network_type=\"drive\")\n",
    "        nodes, edges = momepy.nx_to_gdf(G, points=True, lines=True)\n",
    "        \n",
    "        if 'lanes' not in edges.columns:\n",
    "            edges['lanes'] = float('nan')\n",
    "        edges['lanes_mapped'] = edges['lanes'].apply(parse_and_average_lanes)\n",
    "        edges = map_highway(edges)  \n",
    "   \n",
    "        average_lanes_per_highway = edges.groupby('highway_mapped')['lanes_mapped'].mean()\n",
    "        edges = edges[edges['geometry'].notnull()]\n",
    "        edges['length_computed'] = edges['geometry'].apply(lambda x: line_length_in_meters(x))\n",
    "\n",
    "        for index, row in edges.iterrows():\n",
    "            if pd.isna(row['lanes_mapped']):\n",
    "                approximated_lanes = average_lanes_per_highway[row['highway_mapped']]\n",
    "                if (pd.isna(approximated_lanes)):\n",
    "                    approximated_lanes = average_lanes_per_highway_2024[row['highway_mapped']]\n",
    "                edges.at[index, 'lanes_mapped'] = approximated_lanes\n",
    "        \n",
    "        # filter for higher order roads\n",
    "        edges_hor = edges[\n",
    "            edges[\"highway\"].str.contains(\"motorway\") |\n",
    "            edges[\"highway\"].str.contains(\"trunk\") |\n",
    "            edges[\"highway\"].str.contains(\"primary\") |\n",
    "            edges[\"highway\"].str.contains(\"secondary\") |\n",
    "            edges[\"highway\"].str.contains(\"tertiary\") \n",
    "        ]\n",
    "    \n",
    "        length_in_km = edges['length_computed'].sum()/1000    \n",
    "        length_in_lane_km = get_length_in_lane_km(edges)\n",
    "        \n",
    "        length_hor_in_km = edges_hor['length_computed'].sum()/1000\n",
    "        length_in_lane_km_hor = get_length_in_lane_km(edges_hor)\n",
    "\n",
    "        print(\" \")\n",
    "        print(\"Year: \", year, \", zone: \", zone)\n",
    "        print(\"Length in km: \" + str(length_in_km.round(2)))\n",
    "        print(\"Length in lane km: \" + str(length_in_lane_km))\n",
    "        \n",
    "        print(\"Length of higher order roads in km: \" + str(length_hor_in_km.round(2)))\n",
    "        print(\"Length of higher order roads in lane km: \" + str(length_in_lane_km_hor))"
   ]
  }
 ],
 "metadata": {
  "kernelspec": {
   "display_name": "Paris_Analysis",
   "language": "python",
   "name": "python3"
  },
  "language_info": {
   "codemirror_mode": {
    "name": "ipython",
    "version": 3
   },
   "file_extension": ".py",
   "mimetype": "text/x-python",
   "name": "python",
   "nbconvert_exporter": "python",
   "pygments_lexer": "ipython3",
   "version": "3.10.11"
  },
  "orig_nbformat": 4
 },
 "nbformat": 4,
 "nbformat_minor": 2
}
