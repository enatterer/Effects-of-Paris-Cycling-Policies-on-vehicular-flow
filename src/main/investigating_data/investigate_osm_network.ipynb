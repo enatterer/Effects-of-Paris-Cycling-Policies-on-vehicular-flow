{
 "cells": [
  {
   "cell_type": "code",
   "execution_count": 4,
   "metadata": {},
   "outputs": [],
   "source": [
    "import numpy as np\n",
    "import numpy.linalg as la\n",
    "import pandas as pd\n",
    "import geopandas as gpd\n",
    "from tqdm.notebook import tqdm\n",
    "\n",
    "import osmnx as ox\n",
    "import momepy\n",
    "import matplotlib.pyplot as plt\n",
    "from shapely.geometry import Polygon\n",
    "import alphashape\n",
    "from pyproj import Proj, Geod\n",
    "import ast\n",
    "from shapely.ops import cascaded_union, polygonize, unary_union\n",
    "\n",
    "data_path = '../../data/'  \n",
    "polygon_road_network = gpd.read_file(data_path + 'network/QGIS_Project/referentiel-comptages-edit.shp')\n",
    "paris_districts = gpd.read_file(data_path + 'districts_paris.geojson')\n",
    "df_car_detectors = gpd.read_file(data_path + 'all_car_detectors.geojson')\n",
    "\n",
    "paris_districts = gpd.read_file('../../data/districts_paris.geojson')\n",
    "polygon_all_districts = paris_districts.unary_union\n",
    "\n",
    "def get_exterior_coords(df, start_point, end_point):\n",
    "    filtered_gdf = df[(df[\"c_ar\"] >= start_point) & (df[\"c_ar\"] <= end_point)]\n",
    "\n",
    "    # Check if there are any polygons matching the condition\n",
    "    if not filtered_gdf.empty:\n",
    "        # Apply unary_union to combine the selected polygons into a single polygon\n",
    "        districts_polygon = unary_union(filtered_gdf[\"geometry\"])\n",
    "    else:\n",
    "        # If no polygons match the condition, union_polygon will be None\n",
    "        districts_polygon = None\n",
    "\n",
    "    return districts_polygon.exterior.coords.xy\n",
    "\n",
    "\n",
    "def get_polygon_geometry(df, start_point, end_point):\n",
    "    filtered_gdf = df[(df[\"c_ar\"] >= start_point) & (df[\"c_ar\"] <= end_point)]\n",
    "\n",
    "    # Check if there are any polygons matching the condition\n",
    "    if not filtered_gdf.empty:\n",
    "        # Apply unary_union to combine the selected polygons into a single polygon\n",
    "        districts_polygon = unary_union(filtered_gdf[\"geometry\"])\n",
    "    else:\n",
    "        # If no polygons match the condition, union_polygon will be None\n",
    "        districts_polygon = None\n",
    "\n",
    "    return districts_polygon\n",
    "\n",
    "def transform_highway(value):\n",
    "    if isinstance(value, list):\n",
    "        return value[0] if value else None\n",
    "    else:\n",
    "        return value\n",
    "    \n",
    "def filter_for_district(x_coords, y_coords, df):\n",
    "    district_polygon = Polygon(zip(x_coords, y_coords))\n",
    "\n",
    "    # Create a GeoDataFrame containing the district polygon\n",
    "    district_gdf = gpd.GeoDataFrame(geometry=[district_polygon], crs=df.crs)\n",
    "\n",
    "    # Use the GeoDataFrame's cx attribute to spatially filter cycleways_2010_2022\n",
    "    return gpd.overlay(df, district_gdf, how='intersection')\n",
    "\n",
    "\n",
    "# def approximate_number_of_lanes(df):\n",
    "#     df_with_lanes_approx = df.copy()\n",
    "#     # Convert 'lanes' column to numeric\n",
    "#     # df_with_lanes_approx['lanes'] = pd.to_numeric(df_with_lanes_approx['lanes'], errors='coerce')\n",
    "#     # Calculate average lanes per highway\n",
    "#     average_lanes_per_highway = df_with_lanes_approx.groupby('highway')['lanes'].mean()\n",
    "#     print(average_lanes_per_highway)\n",
    "#     for index, row in df_with_lanes_approx.iterrows():\n",
    "#         if pd.isna(row['lanes']):\n",
    "#             df_with_lanes_approx.at[index, 'lanes'] = average_lanes_per_highway.get(row['highway'])\n",
    "#     return df_with_lanes_approx"
   ]
  },
  {
   "cell_type": "code",
   "execution_count": 5,
   "metadata": {},
   "outputs": [],
   "source": [
    "x_district_1_4, y_district_1_4  = get_exterior_coords(paris_districts, 1, 4)\n",
    "x_district_5_7, y_district_5_7  = get_exterior_coords(paris_districts, 5, 7)\n",
    "\n",
    "# district_1_4 = get_polygon_geometry(paris_districts, 1, 4)\n",
    "# district_5_7 = get_polygon_geometry(paris_districts, 5, 7)"
   ]
  },
  {
   "cell_type": "code",
   "execution_count": 16,
   "metadata": {},
   "outputs": [],
   "source": [
    "def is_na_list(lst):\n",
    "    return lst is None or len(lst) == 0 or all(pd.isna(x) for x in lst)\n",
    "\n",
    "def parse_and_average_lanes(lanes_str):\n",
    "    if isinstance(lanes_str, list):\n",
    "        if is_na_list(lanes_str):\n",
    "            return np.nan\n",
    "        else: \n",
    "            return sum(map(int, lanes_str)) / len(lanes_str)\n",
    "    else:\n",
    "        if pd.isna(lanes_str):  # Check if input is NaN\n",
    "            return np.nan  # Return NaN if input is NaN\n",
    "    try:\n",
    "        # Attempt to parse the string as a list\n",
    "        lanes_list = ast.literal_eval(lanes_str)\n",
    "        if isinstance(lanes_list, list):\n",
    "            # If it's a list, calculate the average of list elements\n",
    "            return sum(map(int, lanes_list)) / len(lanes_list)\n",
    "        else:\n",
    "            # If it's a single integer, return it as is\n",
    "            return int(lanes_list)\n",
    "    except (SyntaxError, ValueError):\n",
    "        # If parsing fails or the lanes_str is not a list, parse as single integer\n",
    "        return int(lanes_str)\n",
    "\n",
    "# def approximate_number_of_lanes(df_matched):\n",
    "#     df_matched_with_lanes_approximated = df_matched.copy()\n",
    "#     print(\"OK\")\n",
    "#     average_lanes_per_highway = df_matched.groupby('highway')['lanes_mapped'].mean()\n",
    "    \n",
    "#     for index, row in df_matched_with_lanes_approximated.iterrows():\n",
    "#         if pd.isna(row['lanes_mapped']):\n",
    "#             df_matched_with_lanes_approximated.at[index, 'lanes_mapped'] = average_lanes_per_highway[row['highway']]\n",
    "#     return df_matched_with_lanes_approximated\n",
    "\n",
    "def line_length_in_meters(line_string):\n",
    "    # Define a UTM projection for the zone containing your coordinates\n",
    "    utm_zone = 31  # Assuming you are in Paris, which falls in UTM zone 31 for example\n",
    "    proj = Proj(proj='utm', zone=utm_zone, ellps='WGS84')\n",
    "\n",
    "    # Extract coordinates from the LineString\n",
    "    coordinates = list(line_string.coords)\n",
    "\n",
    "    # Transform the coordinates to UTM projection\n",
    "    utm_coordinates = [proj(lon, lat) for lon, lat in coordinates]\n",
    "\n",
    "    # Compute the distance between consecutive points in meters\n",
    "    total_length = 0\n",
    "    geod = Geod(ellps='WGS84')\n",
    "    for i in range(len(utm_coordinates) - 1):\n",
    "        lon1, lat1 = utm_coordinates[i]\n",
    "        lon2, lat2 = utm_coordinates[i + 1]\n",
    "        distance_meters = geod.inv(lon1, lat1, lon2, lat2)[-1]  # Use [-1] to get distance\n",
    "\n",
    "        # Handle case of very small distances\n",
    "        if np.isnan(distance_meters):\n",
    "            dx = lon2 - lon1\n",
    "            dy = lat2 - lat1\n",
    "            distance_meters = np.sqrt(dx**2 + dy**2)\n",
    "        total_length += distance_meters\n",
    "\n",
    "    return total_length"
   ]
  },
  {
   "cell_type": "code",
   "execution_count": 64,
   "metadata": {},
   "outputs": [],
   "source": [
    "def map_highway(df):\n",
    "    highway_mapped = []\n",
    "    for value in df['highway']:\n",
    "        if isinstance(value, str):\n",
    "            highway_mapped.append(value)\n",
    "        elif isinstance(value, list):\n",
    "            highway_mapped.append(value[0] if len(value) > 0 else None)\n",
    "        else:\n",
    "            highway_mapped.append(None)\n",
    "    my_df = df.copy()\n",
    "    my_df['highway_mapped'] = highway_mapped\n",
    "    return my_df"
   ]
  },
  {
   "cell_type": "code",
   "execution_count": 70,
   "metadata": {},
   "outputs": [
    {
     "name": "stderr",
     "output_type": "stream",
     "text": [
      "/var/folders/m_/fjnjc1sn0ggc7z_2y7n27xfh0000gn/T/ipykernel_53208/3964461498.py:6: UserWarning: Approach is not set. Defaulting to 'primal'.\n",
      "  nodes, edges_2024 = momepy.nx_to_gdf(G_now, points=True, lines=True)\n"
     ]
    }
   ],
   "source": [
    "alpha_shape = alphashape.alphashape(polygon_road_network, 435)\n",
    "coordinates = list(alpha_shape.exterior[0].coords)\n",
    "polygon = Polygon(coordinates)\n",
    "\n",
    "G_2024 = ox.graph_from_polygon(polygon=polygon, simplify=True, network_type=\"drive\")\n",
    "nodes, edges_2024 = momepy.nx_to_gdf(G_2024, points=True, lines=True)\n",
    "\n",
    "edges_2024['lanes_mapped'] = edges_2024['lanes'].apply(parse_and_average_lanes)\n",
    "edges_2024 = map_highway(edges_2024)\n",
    "\n",
    "average_lanes_per_highway_2024 = edges_2024.groupby('highway_mapped')['lanes_mapped'].mean()"
   ]
  },
  {
   "cell_type": "code",
   "execution_count": 83,
   "metadata": {},
   "outputs": [],
   "source": [
    "\n",
    "\n",
    "average_lanes_per_highway_2024['road'] = 2\n",
    "average_lanes_per_highway_2024['virtual'] = 1\n"
   ]
  },
  {
   "cell_type": "code",
   "execution_count": 84,
   "metadata": {},
   "outputs": [
    {
     "data": {
      "text/plain": [
       "highway_mapped\n",
       "living_street     1.290909\n",
       "primary           3.078785\n",
       "primary_link      1.844156\n",
       "residential       1.436658\n",
       "secondary         2.497629\n",
       "secondary_link    1.636364\n",
       "tertiary          2.074983\n",
       "tertiary_link     1.166667\n",
       "trunk             3.666667\n",
       "trunk_link        1.760000\n",
       "unclassified      1.689189\n",
       "road              2.000000\n",
       "virtual           1.000000\n",
       "Name: lanes_mapped, dtype: float64"
      ]
     },
     "execution_count": 84,
     "metadata": {},
     "output_type": "execute_result"
    }
   ],
   "source": [
    "average_lanes_per_highway_2024"
   ]
  },
  {
   "cell_type": "code",
   "execution_count": null,
   "metadata": {},
   "outputs": [],
   "source": [
    "      # lanes_per_highway = {\"primary\": 3.09, \"secondary\": 2.48, \"tertiary\": 2.08, \"trunk\": 4, \"primary_link\": 3.09, \"secondary_link\": 2.48, \"tertiary_link\": 2.08, \"trunk_link\": 4}\n",
    "        # edges.plot()"
   ]
  },
  {
   "cell_type": "code",
   "execution_count": 93,
   "metadata": {},
   "outputs": [
    {
     "name": "stderr",
     "output_type": "stream",
     "text": [
      "/var/folders/m_/fjnjc1sn0ggc7z_2y7n27xfh0000gn/T/ipykernel_53208/1712476554.py:24: UserWarning: Approach is not set. Defaulting to 'primal'.\n",
      "  nodes, edges = momepy.nx_to_gdf(G, points=True, lines=True)\n"
     ]
    },
    {
     "name": "stdout",
     "output_type": "stream",
     "text": [
      " \n",
      "Year:  2023 , zone:  1\n",
      "Length in km: 84.25\n",
      "Length in lane km: 170.707364619837\n",
      "Length of higher order roads in km: 28.75\n",
      "Length of higher order roads in lane km: 83.15877582088862\n"
     ]
    },
    {
     "name": "stderr",
     "output_type": "stream",
     "text": [
      "/var/folders/m_/fjnjc1sn0ggc7z_2y7n27xfh0000gn/T/ipykernel_53208/1712476554.py:24: UserWarning: Approach is not set. Defaulting to 'primal'.\n",
      "  nodes, edges = momepy.nx_to_gdf(G, points=True, lines=True)\n"
     ]
    },
    {
     "name": "stdout",
     "output_type": "stream",
     "text": [
      " \n",
      "Year:  2023 , zone:  2\n",
      "Length in km: 157.93\n",
      "Length in lane km: 311.72340011508123\n",
      "Length of higher order roads in km: 72.52\n",
      "Length of higher order roads in lane km: 183.69322482604213\n"
     ]
    },
    {
     "name": "stderr",
     "output_type": "stream",
     "text": [
      "/var/folders/m_/fjnjc1sn0ggc7z_2y7n27xfh0000gn/T/ipykernel_53208/1712476554.py:24: UserWarning: Approach is not set. Defaulting to 'primal'.\n",
      "  nodes, edges = momepy.nx_to_gdf(G, points=True, lines=True)\n"
     ]
    },
    {
     "name": "stdout",
     "output_type": "stream",
     "text": [
      " \n",
      "Year:  2024 , zone:  1\n",
      "Length in km: 83.69\n",
      "Length in lane km: 168.6696743120909\n",
      "Length of higher order roads in km: 34.2\n",
      "Length of higher order roads in lane km: 94.47098272578333\n"
     ]
    },
    {
     "name": "stderr",
     "output_type": "stream",
     "text": [
      "/var/folders/m_/fjnjc1sn0ggc7z_2y7n27xfh0000gn/T/ipykernel_53208/1712476554.py:24: UserWarning: Approach is not set. Defaulting to 'primal'.\n",
      "  nodes, edges = momepy.nx_to_gdf(G, points=True, lines=True)\n"
     ]
    },
    {
     "name": "stdout",
     "output_type": "stream",
     "text": [
      " \n",
      "Year:  2024 , zone:  2\n",
      "Length in km: 156.92\n",
      "Length in lane km: 308.67686511819153\n",
      "Length of higher order roads in km: 72.33\n",
      "Length of higher order roads in lane km: 183.06145866081837\n"
     ]
    }
   ],
   "source": [
    "years = [2023, 2024]\n",
    "zones = [1, 2]\n",
    "\n",
    "def get_length_in_lane_km(df):\n",
    "    length_in_lane_km = 0\n",
    "    for idx, edge in df.iterrows():\n",
    "        length = edge['length_computed']\n",
    "        lanes = edge['lanes_mapped']\n",
    "        length_edge = length * lanes/1000\n",
    "        length_in_lane_km += length_edge\n",
    "    return length_in_lane_km\n",
    "\n",
    "for year in years:\n",
    "    for zone in zones:\n",
    "        if zone == 1:\n",
    "            district = get_polygon_geometry(paris_districts, 1, 4)\n",
    "        else: \n",
    "            district = get_polygon_geometry(paris_districts, 5, 7)\n",
    "        overpass_settings = '[out:json][timeout:90][date:\"' + str(year) + '-01-01T00:00:00Z\"]'\n",
    "        ox.settings.overpass_settings = overpass_settings\n",
    "        ox.settings.log_console = True\n",
    "    \n",
    "        G = ox.graph_from_polygon(polygon=district, simplify=True, network_type=\"drive\")\n",
    "        nodes, edges = momepy.nx_to_gdf(G, points=True, lines=True)\n",
    "        \n",
    "        if 'lanes' not in edges.columns:\n",
    "            edges['lanes'] = float('nan')\n",
    "        edges['lanes_mapped'] = edges['lanes'].apply(parse_and_average_lanes)\n",
    "        edges = map_highway(edges)  \n",
    "   \n",
    "        average_lanes_per_highway = edges.groupby('highway_mapped')['lanes_mapped'].mean()\n",
    "        edges = edges[edges['geometry'].notnull()]\n",
    "        edges['length_computed'] = edges['geometry'].apply(lambda x: line_length_in_meters(x))\n",
    "\n",
    "        for index, row in edges.iterrows():\n",
    "            if pd.isna(row['lanes_mapped']):\n",
    "                approximated_lanes = average_lanes_per_highway[row['highway_mapped']]\n",
    "                if (pd.isna(approximated_lanes)):\n",
    "                    approximated_lanes = average_lanes_per_highway_2024[row['highway_mapped']]\n",
    "                edges.at[index, 'lanes_mapped'] = approximated_lanes\n",
    "        \n",
    "        # filter for higher order roads\n",
    "        edges_hor = edges[\n",
    "            edges[\"highway\"].str.contains(\"motorway\") |\n",
    "            edges[\"highway\"].str.contains(\"trunk\") |\n",
    "            edges[\"highway\"].str.contains(\"primary\") |\n",
    "            edges[\"highway\"].str.contains(\"secondary\") |\n",
    "            edges[\"highway\"].str.contains(\"tertiary\") \n",
    "        ]\n",
    "    \n",
    "        length_in_km = edges['length_computed'].sum()/1000    \n",
    "        length_in_lane_km = get_length_in_lane_km(edges)\n",
    "        \n",
    "        length_hor_in_km = edges_hor['length_computed'].sum()/1000\n",
    "        length_in_lane_km_hor = get_length_in_lane_km(edges_hor)\n",
    "\n",
    "        print(\" \")\n",
    "        print(\"Year: \", year, \", zone: \", zone)\n",
    "        print(\"Length in km: \" + str(length_in_km.round(2)))\n",
    "        print(\"Length in lane km: \" + str(length_in_lane_km))\n",
    "        \n",
    "        print(\"Length of higher order roads in km: \" + str(length_hor_in_km.round(2)))\n",
    "        print(\"Length of higher order roads in lane km: \" + str(length_in_lane_km_hor))"
   ]
  },
  {
   "cell_type": "code",
   "execution_count": null,
   "metadata": {},
   "outputs": [
    {
     "data": {
      "text/plain": [
       "2.7814279456854885"
      ]
     },
     "execution_count": 12,
     "metadata": {},
     "output_type": "execute_result"
    }
   ],
   "source": [
    "(85.28/) * 100"
   ]
  },
  {
   "attachments": {},
   "cell_type": "markdown",
   "metadata": {},
   "source": [
    "Zuwachs Zone 1:\n",
    "1.92 %\n",
    "Decrease Zone 2: 2.78 % "
   ]
  },
  {
   "cell_type": "code",
   "execution_count": null,
   "metadata": {},
   "outputs": [],
   "source": [
    "asdfads"
   ]
  },
  {
   "cell_type": "code",
   "execution_count": null,
   "metadata": {},
   "outputs": [],
   "source": [
    "# perform it for years 2013 - current year. For some reason, one cannot retrieve detector data from OSM from before 2013.\n",
    "year = 2024"
   ]
  },
  {
   "cell_type": "code",
   "execution_count": null,
   "metadata": {},
   "outputs": [],
   "source": [
    "# def approximate_number_of_lanes(df_matched):\n",
    "#     df_matched_with_lanes_approximated = df_matched.copy()\n",
    "#     df_matched['highway'] = df_matched['highway'].apply(transform_highway)\n",
    "#     average_lanes_per_highway = df_matched.groupby('highway')['lanes'].mean()\n",
    "#     for index, row in df_matched_with_lanes_approximated.iterrows():\n",
    "#         if pd.isna(row['lanes']):\n",
    "#             df_matched_with_lanes_approximated.at[index, 'lanes'] = average_lanes_per_highway[row['highway']]\n",
    "#     return df_matched_with_lanes_approximated\n",
    "\n",
    "# def approximate_number_of_lanes(df_matched):\n",
    "#     df_matched_with_lanes_approximated = df_matched.copy()\n",
    "#     # Convert 'lanes' column to numeric\n",
    "#     df_matched_with_lanes_approximated['lanes'] = pd.to_numeric(df_matched_with_lanes_approximated['lanes'], errors='coerce')\n",
    "#     # Calculate average lanes per highway\n",
    "#     average_lanes_per_highway = df_matched_with_lanes_approximated.groupby('highway')['lanes'].mean()\n",
    "#     for index, row in df_matched_with_lanes_approximated.iterrows():\n",
    "#         if pd.isna(row['lanes']):\n",
    "#             df_matched_with_lanes_approximated.at[index, 'lanes'] = average_lanes_per_highway.get(row['highway'])\n",
    "#     return df_matched_with_lanes_approximated"
   ]
  },
  {
   "cell_type": "code",
   "execution_count": null,
   "metadata": {},
   "outputs": [
    {
     "name": "stdout",
     "output_type": "stream",
     "text": [
      " \n"
     ]
    },
    {
     "name": "stderr",
     "output_type": "stream",
     "text": [
      "/var/folders/m_/fjnjc1sn0ggc7z_2y7n27xfh0000gn/T/ipykernel_50872/3517009546.py:24: UserWarning: Approach is not set. Defaulting to 'primal'.\n",
      "  nodes, edges = momepy.nx_to_gdf(G, points=True, lines=True)\n"
     ]
    },
    {
     "ename": "NameError",
     "evalue": "name 'approximate_number_of_lanes' is not defined",
     "output_type": "error",
     "traceback": [
      "\u001b[0;31m---------------------------------------------------------------------------\u001b[0m",
      "\u001b[0;31mNameError\u001b[0m                                 Traceback (most recent call last)",
      "Cell \u001b[0;32mIn[6], line 27\u001b[0m\n\u001b[1;32m     24\u001b[0m nodes, edges \u001b[39m=\u001b[39m momepy\u001b[39m.\u001b[39mnx_to_gdf(G, points\u001b[39m=\u001b[39m\u001b[39mTrue\u001b[39;00m, lines\u001b[39m=\u001b[39m\u001b[39mTrue\u001b[39;00m)\n\u001b[1;32m     25\u001b[0m length_in_km \u001b[39m=\u001b[39m edges[\u001b[39m'\u001b[39m\u001b[39mlength\u001b[39m\u001b[39m'\u001b[39m]\u001b[39m.\u001b[39msum()\u001b[39m/\u001b[39m\u001b[39m1000\u001b[39m\n\u001b[0;32m---> 27\u001b[0m edges_with_lanes_approximated \u001b[39m=\u001b[39m approximate_number_of_lanes(edges)\n\u001b[1;32m     29\u001b[0m \u001b[39mif\u001b[39;00m year \u001b[39m==\u001b[39m \u001b[39m2013\u001b[39m:\n\u001b[1;32m     30\u001b[0m     \u001b[39m# nan_count = df_matched_with_lanes_approximated['lanes'].isna().sum()\u001b[39;00m\n\u001b[1;32m     31\u001b[0m     \u001b[39m# print(\"Number of NaN values in 'lanes' column:\", nan_count)\u001b[39;00m\n\u001b[1;32m     32\u001b[0m     \n\u001b[1;32m     33\u001b[0m     \u001b[39m# number of lanes are missing for highways of type \"primary_link\", \"secondary_link\", \"trunk_link\" and \"tertiary_link\"\u001b[39;00m\n\u001b[1;32m     34\u001b[0m     number_of_lanes_primary_link \u001b[39m=\u001b[39m edges[edges[\u001b[39m'\u001b[39m\u001b[39mhighway\u001b[39m\u001b[39m'\u001b[39m] \u001b[39m==\u001b[39m \u001b[39m'\u001b[39m\u001b[39mprimary\u001b[39m\u001b[39m'\u001b[39m][\u001b[39m'\u001b[39m\u001b[39mlanes\u001b[39m\u001b[39m'\u001b[39m]\u001b[39m.\u001b[39mmean()\n",
      "\u001b[0;31mNameError\u001b[0m: name 'approximate_number_of_lanes' is not defined"
     ]
    }
   ],
   "source": [
    "# # get OSM dataframe\n",
    "# # alpha_shape = alphashape.alphashape(polygon_road_network, 435)\n",
    "# # coordinates = list(alpha_shape.exterior[0].coords)\n",
    "# # polygon = Polygon(coordinates)\n",
    "# # x_coords, y_coords = zip(*coordinates)\n",
    "# years = [2013, 2024]\n",
    "# zones = [1, 2]\n",
    "\n",
    "# for year in years:\n",
    "#     print(\" \")\n",
    "#     for zone in zones:\n",
    "#         if zone == 1:\n",
    "#             district = get_polygon_geometry(paris_districts, 1, 4)\n",
    "#         else: \n",
    "#             district = get_polygon_geometry(paris_districts, 5, 7)\n",
    "#         overpass_settings = '[out:json][timeout:90][date:\"' + str(year) + '-01-01T00:00:00Z\"]'\n",
    "#         ox.settings.overpass_settings = overpass_settings\n",
    "#         ox.settings.log_console = True\n",
    "        \n",
    "#         for mode in modes:\n",
    "#             G = ox.graph_from_polygon(\n",
    "#                 district, simplify=True, network_type=mode, retain_all=True, truncate_by_edge=True)\n",
    "#             nodes, edges = momepy.nx_to_gdf(G, points=True, lines=True)\n",
    "#             length_in_km = edges['length'].sum()/1000\n",
    "            \n",
    "#             edges_with_lanes_approximated = approximate_number_of_lanes(edges)\n",
    "            \n",
    "#             if year == 2013:\n",
    "#                 # nan_count = df_matched_with_lanes_approximated['lanes'].isna().sum()\n",
    "#                 # print(\"Number of NaN values in 'lanes' column:\", nan_count)\n",
    "                \n",
    "#                 # number of lanes are missing for highways of type \"primary_link\", \"secondary_link\", \"trunk_link\" and \"tertiary_link\"\n",
    "#                 number_of_lanes_primary_link = edges[edges['highway'] == 'primary']['lanes'].mean()\n",
    "#                 number_of_lanes_secondary_link = edges[edges['highway'] == 'secondary']['lanes'].mean()\n",
    "#                 number_of_lanes_tertiary_link = edges[edges['highway'] == 'tertiary']['lanes'].mean()\n",
    "#                 number_of_lanes_trunk_link = edges[edges['highway'] == 'trunk']['lanes'].mean()\n",
    "#                 print(number_of_lanes_primary_link, number_of_lanes_secondary_link, number_of_lanes_trunk_link)\n",
    "                \n",
    "#                 edges.loc[edges['highway'] == 'primary_link', 'lanes'] = number_of_lanes_primary_link\n",
    "#                 edges.loc[edges['highway'] == 'secondary_link', 'lanes'] = number_of_lanes_secondary_link\n",
    "#                 edges.loc[edges['highway'] == 'tertiary_link', 'lanes'] = number_of_lanes_tertiary_link\n",
    "#                 edges.loc[edges['highway'] == 'trunk_link', 'lanes'] = number_of_lanes_trunk_link\n",
    "                \n",
    "#                 # nan_count = df_matched_with_lanes_approximated['lanes'].isna().sum()\n",
    "#                 # print(\"Number of NaN values in 'lanes' column:\", nan_count)\n",
    "    \n",
    "#             length_in_lane_km = 0\n",
    "#             for edge in edges_with_lanes_approximated.iterrows():\n",
    "#                 length = edge['length']\n",
    "#                 lanes = edge['lanes']\n",
    "#                 length_edge = length * lanes/1000\n",
    "#                 length_in_lane_km += length_edge\n",
    "            \n",
    "#             print(\"Year: \", year, \", zone: \", zone, \"mode: \", mode)\n",
    "#             print(\"Length in km: \" + str(length_in_km.round(2)))\n",
    "#             print(\"Length in lane km: \" + str(length_in_lane_km.round(2)))"
   ]
  },
  {
   "cell_type": "code",
   "execution_count": null,
   "metadata": {},
   "outputs": [],
   "source": [
    "x_district_1_4, y_district_1_4  = get_exterior_coords(paris_districts, 1, 4)\n",
    "x_district_5_7, y_district_5_7  = get_exterior_coords(paris_districts, 5, 7)"
   ]
  },
  {
   "cell_type": "code",
   "execution_count": null,
   "metadata": {},
   "outputs": [],
   "source": [
    "\n",
    "\n",
    "cycleways_district_1_4 = filter_for_district(x_district_1_4, y_district_1_4)\n",
    "cycleways_district_5_7 = filter_for_district(x_district_5_7, y_district_5_7)"
   ]
  },
  {
   "cell_type": "code",
   "execution_count": null,
   "metadata": {},
   "outputs": [
    {
     "data": {
      "text/plain": [
       "array('d', [2.369103414954773, 2.369105862160331, 2.369106875143625, 2.369114117866479, 2.36913010408185, 2.36913487804702, 2.369137996500427, 2.369130100046732, 2.369102354168097, 2.369079241331071, 2.369077956861985, 2.368872311888239, 2.368809812205495, 2.368801899186301, 2.368738580824187, 2.368670860964883, 2.368636812528627, 2.368613150709158, 2.368612358871244, 2.368600745264712, 2.368598714720008, 2.368574425795794, 2.368418755409635, 2.368417692817263, 2.368385844883154, 2.368030923056307, 2.367991386804722, 2.367311699670686, 2.367309371355025, 2.366519794267492, 2.366502596086438, 2.366145444456016, 2.366137492190343, 2.366116855142304, 2.365968023757516, 2.365941978828986, 2.365694997301973, 2.365685631295672, 2.365682292369178, 2.365650421202715, 2.365605988329807, 2.365561424693939, 2.365548215124831, 2.365485498206277, 2.365483449345826, 2.365378777673753, 2.365366647494866, 2.364433128355796, 2.362493498379017, 2.361891702135769, 2.361514791805424, 2.360799077361141, 2.360798036742315, 2.359816485050638, 2.359692984104018, 2.359568953863113, 2.359350832297959, 2.359174815637675, 2.35887295978381, 2.358545112198726, 2.358329849653086, 2.358250003838454, 2.35814823460726, 2.358056534328144, 2.357997538406968, 2.355648511210789, 2.355599318200036, 2.355511568198288, 2.355347668162334, 2.353705957159684, 2.353185438178182, 2.352515571675152, 2.351601000468771, 2.350223159073935, 2.3500428561823, 2.349979516538841, 2.349906624964282, 2.349873624881668, 2.349641135827662, 2.349381781757695, 2.349260362051209, 2.348470201668921, 2.34694654706386, 2.346872279974305, 2.346818865813062, 2.344786048917527, 2.344702384271666, 2.344592677496354, 2.342857446643514, 2.342804576656162, 2.342682482361055, 2.341937940285343, 2.340855391485059, 2.340477776688282, 2.34038175846603, 2.340365619072079, 2.337546764444435, 2.336609222670765, 2.332910100578299, 2.329908983447546, 2.329904495269684, 2.329856100299037, 2.329815344893258, 2.329523658986177, 2.328327173989778, 2.328311532595535, 2.327067639951823, 2.326102290322419, 2.325279730372084, 2.325237201197246, 2.325230788055715, 2.324735595380242, 2.320941363405975, 2.320902853673183, 2.321289845022016, 2.321328201866081, 2.321403562868817, 2.321409812041743, 2.321573384657446, 2.322458784782099, 2.322540194156947, 2.323326562112992, 2.323445157557062, 2.32357091787077, 2.323573439675368, 2.323534050081446, 2.324585385652734, 2.324586588057721, 2.324673957331719, 2.325031165605556, 2.325319585650482, 2.325159177504882, 2.325214940356579, 2.325255478428898, 2.32546659333157, 2.325506885200401, 2.325687063568162, 2.325836254471964, 2.325841284784872, 2.32799095019138, 2.32800689975765, 2.328007329038849, 2.32984034160984, 2.332082346211126, 2.334150445666464, 2.337008699424837, 2.337096350892027, 2.339735558883667, 2.339898092256945, 2.34004423190851, 2.343068934219441, 2.347880282483183, 2.350960685471092, 2.352631015727846, 2.354260580416611, 2.355851251424401, 2.356122237429608, 2.356376304637886, 2.357276611233495, 2.359012067001677, 2.359661291615677, 2.362346353900449, 2.362609137875383, 2.362835821366176, 2.362950441105718, 2.363097114419805, 2.363191020358598, 2.363264895211806, 2.363341067763255, 2.363420512806496, 2.363586764002008, 2.363695780881004, 2.363748973379518, 2.363750154346528, 2.363760919975683, 2.363766908947874, 2.363828096062925, 2.363889283103472, 2.363895272057997, 2.36390615161445, 2.3639604108556, 2.364050888403437, 2.364136202212002, 2.364196150694383, 2.364231046057404, 2.364248889209932, 2.364262374754115, 2.364317526957068, 2.364378833526726, 2.364437745426764, 2.36445371308141, 2.364489529577707, 2.364499215217103, 2.364499503250018, 2.364517178379751, 2.364544549216028, 2.364674522150413, 2.364735520441731, 2.364751225284849, 2.365405891553086, 2.36579983886103, 2.365835492959615, 2.365835931242598, 2.36670305103525, 2.366717752493784, 2.366735181191001, 2.366751514017704, 2.366765386678585, 2.36690109293189, 2.367101341265477, 2.367265176116383, 2.367465690980601, 2.367619700062679, 2.368068570468517, 2.368227316713131, 2.368227737367889, 2.368479721902639, 2.368512371393433, 2.369003320979819, 2.369103414954773])"
      ]
     },
     "execution_count": 9,
     "metadata": {},
     "output_type": "execute_result"
    }
   ],
   "source": [
    "x_district_1_4"
   ]
  },
  {
   "cell_type": "code",
   "execution_count": null,
   "metadata": {},
   "outputs": [],
   "source": []
  }
 ],
 "metadata": {
  "kernelspec": {
   "display_name": "Paris_Analysis",
   "language": "python",
   "name": "python3"
  },
  "language_info": {
   "codemirror_mode": {
    "name": "ipython",
    "version": 3
   },
   "file_extension": ".py",
   "mimetype": "text/x-python",
   "name": "python",
   "nbconvert_exporter": "python",
   "pygments_lexer": "ipython3",
   "version": "3.10.11"
  },
  "orig_nbformat": 4
 },
 "nbformat": 4,
 "nbformat_minor": 2
}
