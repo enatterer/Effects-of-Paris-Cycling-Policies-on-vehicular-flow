{
 "cells": [
  {
   "attachments": {},
   "cell_type": "markdown",
   "id": "663e7e7f",
   "metadata": {},
   "source": [
    "## Goal of this notebook\n",
    "\n",
    "The goal of this notebook is to optimize the matching process between the detector network and the \"main roads\" of OpenStreetMap. It is a refined version of the notebook match_osm_networks.ipynb."
   ]
  },
  {
   "attachments": {},
   "cell_type": "markdown",
   "id": "31fe7c84",
   "metadata": {},
   "source": [
    "This notebook matches the links of the Paris counting network with the links of an OSM network:\n",
    "- Load [OpenStreetMap network](https://www.openstreetmap.org/#map=7/51.330/10.453) in Bvd Peripherique\n",
    "- Load [detector network](https://opendata.paris.fr/explore/dataset/referentiel-comptages-routiers/information/)\n",
    "- Perform matching by angle and centroid\n"
   ]
  },
  {
   "cell_type": "code",
   "execution_count": 9,
   "id": "a19eca97",
   "metadata": {},
   "outputs": [],
   "source": [
    "import numpy as np\n",
    "import numpy.linalg as la\n",
    "import pandas as pd\n",
    "import geopandas as gpd\n",
    "from tqdm.notebook import tqdm\n",
    "\n",
    "import osmnx as ox\n",
    "import momepy\n",
    "import matplotlib.pyplot as plt\n",
    "from shapely.geometry import Polygon\n",
    "import alphashape\n",
    "from pyproj import Proj, Geod\n",
    "import ast\n",
    "import matplotlib.font_manager as font_manager\n",
    "import datetime as dt\n",
    "\n",
    "from functions import line_length_in_meters, parse_and_average_lanes, approximate_number_of_lanes \n",
    "\n",
    "fontsize = 20\n",
    "figsize = (15, 10)\n",
    "font = 'Times New Roman'\n",
    "\n",
    "data_path = '../../data/'  \n",
    "polygon_road_network = gpd.read_file(data_path + 'network/QGIS_Project/referentiel-comptages-edit.shp')\n",
    "paris_districts = gpd.read_file(data_path + 'districts_paris.geojson')\n",
    "df_car_detectors = gpd.read_file(data_path + 'all_car_detectors.geojson')"
   ]
  },
  {
   "attachments": {},
   "cell_type": "markdown",
   "id": "08921cc8",
   "metadata": {},
   "source": [
    "## Load networks"
   ]
  },
  {
   "cell_type": "code",
   "execution_count": 10,
   "id": "b42d0b3f",
   "metadata": {},
   "outputs": [],
   "source": [
    "# perform it for years 2013 - 2024. One cannot retrieve detector data from OSM from before 2013.\n",
    "year = 2024\n",
    "\n",
    "with_boulevard_peripherique = True\n",
    "\n",
    "if with_boulevard_peripherique:\n",
    "    output_path = \"output/detectors_matched_with_bvd_peripherique_2_osm_01_\" + str(year)\n",
    "else:\n",
    "    output_path = \"output/detectors_matched_2_osm_01_\" + str(year)"
   ]
  },
  {
   "cell_type": "code",
   "execution_count": 11,
   "id": "a3f43313",
   "metadata": {},
   "outputs": [
    {
     "name": "stderr",
     "output_type": "stream",
     "text": [
      "/var/folders/m_/fjnjc1sn0ggc7z_2y7n27xfh0000gn/T/ipykernel_1537/2175760102.py:27: UserWarning: Approach is not set. Defaulting to 'primal'.\n",
      "  nodes_osm, df_osm = momepy.nx_to_gdf(G_road_network, points=True, lines=True)\n"
     ]
    }
   ],
   "source": [
    "# get OSM dataframe and process car detectors\n",
    "\n",
    "if with_boulevard_peripherique:\n",
    "    G_road_network = ox.graph_from_place(\"Paris\", simplify=True, network_type=\"drive\")\n",
    "    df_detectors = df_car_detectors.copy()\n",
    "    \n",
    "else:\n",
    "    alpha_shape = alphashape.alphashape(polygon_road_network, 435)\n",
    "    coordinates = list(alpha_shape.exterior[0].coords)\n",
    "    polygon = Polygon(coordinates)\n",
    "    x_coords, y_coords = zip(*coordinates)\n",
    "\n",
    "    overpass_settings = '[out:json][timeout:90][date:\"' + str(year) + '-01-01T00:00:00Z\"]'\n",
    "    ox.settings.overpass_settings = overpass_settings\n",
    "    ox.settings.log_console = True\n",
    "    G_road_network = ox.graph_from_polygon(\n",
    "        polygon, simplify=True, network_type=\"drive\")\n",
    "    \n",
    "    boundary_gdf = gpd.GeoDataFrame(\n",
    "    geometry=[polygon], crs=df_car_detectors.crs)\n",
    "    df_car_detectors_without_dupl = df_car_detectors.drop_duplicates(\n",
    "        subset='iu_ac', keep='first')\n",
    "    car_detectors_within_boundary = gpd.sjoin(\n",
    "        df_car_detectors_without_dupl, boundary_gdf, op='within')\n",
    "    df_detectors = car_detectors_within_boundary.copy()\n",
    "    \n",
    "nodes_osm, df_osm = momepy.nx_to_gdf(G_road_network, points=True, lines=True)"
   ]
  },
  {
   "cell_type": "code",
   "execution_count": 12,
   "id": "41381266",
   "metadata": {},
   "outputs": [
    {
     "name": "stdout",
     "output_type": "stream",
     "text": [
      "osmid          0.000000\n",
      "lanes         53.390801\n",
      "name           2.640624\n",
      "highway        0.000000\n",
      "maxspeed       1.031153\n",
      "oneway         0.000000\n",
      "reversed       0.000000\n",
      "length         0.000000\n",
      "geometry      10.966228\n",
      "junction      97.130231\n",
      "width         93.643952\n",
      "bridge        98.554204\n",
      "tunnel        98.766981\n",
      "access        99.514431\n",
      "ref           99.541710\n",
      "node_start     0.000000\n",
      "node_end       0.000000\n",
      "dtype: float64\n"
     ]
    }
   ],
   "source": [
    "df_osm.head()\n",
    "\n",
    "# Check for NaN values in all columns of df_osm\n",
    "nan_percentages_all_columns = df_osm.isna().mean() * 100\n",
    "print(nan_percentages_all_columns)\n",
    "\n",
    "\n"
   ]
  },
  {
   "cell_type": "code",
   "execution_count": 13,
   "id": "bad3ade6",
   "metadata": {},
   "outputs": [
    {
     "name": "stdout",
     "output_type": "stream",
     "text": [
      "            osmid lanes                      name       highway maxspeed  \\\n",
      "0        31093720     2         Rue Louis Lumière   residential       30   \n",
      "55      720196717     2  Avenue Théophile Gautier      tertiary       30   \n",
      "64       34172802     4          Boulevard Suchet       primary       50   \n",
      "72       24981503     2  Allée des Fortifications  unclassified       30   \n",
      "74     1295716614     2    Avenue de l'Hippodrome     secondary       50   \n",
      "...           ...   ...                       ...           ...      ...   \n",
      "18311    31093720     2         Rue Louis Lumière   residential       30   \n",
      "18312  1211815123     2                Rue Érasme   residential       30   \n",
      "18322   677991574     3        Quai André Citroën  primary_link       30   \n",
      "18326    24663180     6      Avenue de Versailles       primary       30   \n",
      "18327    24663180     6      Avenue de Versailles       primary       30   \n",
      "\n",
      "       oneway reversed  length geometry junction width bridge tunnel access  \\\n",
      "0       False    False   4.348     None      NaN   NaN    NaN    NaN    NaN   \n",
      "55      False     True  34.364     None      NaN   NaN    NaN    NaN    NaN   \n",
      "64      False     True  43.722     None      NaN   NaN    NaN    NaN    NaN   \n",
      "72      False     True   5.653     None      NaN   NaN    NaN    NaN    NaN   \n",
      "74      False    False  26.280     None      NaN   NaN    NaN    NaN    NaN   \n",
      "...       ...      ...     ...      ...      ...   ...    ...    ...    ...   \n",
      "18311   False     True   4.348     None      NaN   NaN    NaN    NaN    NaN   \n",
      "18312   False     True  33.080     None      NaN   NaN    NaN    NaN    NaN   \n",
      "18322    True    False   7.837     None      NaN   NaN    yes    NaN    NaN   \n",
      "18326   False    False   2.353     None      NaN   NaN    NaN    NaN    NaN   \n",
      "18327   False     True  22.377     None      NaN   NaN    NaN    NaN    NaN   \n",
      "\n",
      "       ref  node_start  node_end  \n",
      "0      NaN           0      9511  \n",
      "55     NaN          20      2941  \n",
      "64     NaN          24      6635  \n",
      "72     NaN          26      8577  \n",
      "74     NaN          27      8307  \n",
      "...    ...         ...       ...  \n",
      "18311  NaN        9511         0  \n",
      "18312  NaN        9512      1399  \n",
      "18322  NaN        9521       313  \n",
      "18326  NaN        9524      6302  \n",
      "18327  NaN        9524      6300  \n",
      "\n",
      "[2010 rows x 17 columns]\n"
     ]
    }
   ],
   "source": [
    "# Print rows where \"geometry\" is NaN\n",
    "nan_geometry_rows = df_osm[df_osm['geometry'].isna()]\n",
    "print(nan_geometry_rows)\n"
   ]
  },
  {
   "cell_type": "code",
   "execution_count": 14,
   "id": "93baeffa",
   "metadata": {},
   "outputs": [],
   "source": [
    "# Process osm network\n",
    "df_osm['osm_id'] = range(1, len(df_osm) + 1)\n",
    "df_osm.drop(columns=['width', 'bridge', 'tunnel', 'junction', 'access', 'ref'])\n",
    "\n",
    "# Filter osm network for higher order roads\n",
    "df_osm_hor = df_osm[\n",
    "    df_osm[\"highway\"].str.contains(\"motorway\") |\n",
    "    df_osm[\"highway\"].str.contains(\"trunk\") |\n",
    "    df_osm[\"highway\"].str.contains(\"primary\") |\n",
    "    df_osm[\"highway\"].str.contains(\"secondary\") |\n",
    "    df_osm[\"highway\"].str.contains(\"tertiary\") \n",
    "]\n",
    "df_osm_hor = df_osm_hor[df_osm_hor['geometry'].notnull()]"
   ]
  },
  {
   "cell_type": "code",
   "execution_count": 15,
   "id": "0727a24c",
   "metadata": {},
   "outputs": [],
   "source": [
    "# Configure matching process\n",
    "\n",
    "# Trade-off between scoring angle difference and centroid distance. alpha = 0.8 seemed to get the best matching. Keep in mind that we normalize the absolute difference of centroid \n",
    "# distance and angle difference is done in the score computation. \n",
    "alpha = 0.8\n",
    "\n",
    "# Maximum centroid distance between two candidates\n",
    "maximum_distance = 50\n",
    "\n",
    "# Maximum angle difference between two candidates\n",
    "maximum_angle = 15 * np.pi / 180.0"
   ]
  },
  {
   "attachments": {},
   "cell_type": "markdown",
   "id": "76a69f68",
   "metadata": {},
   "source": [
    "## Plot data"
   ]
  },
  {
   "cell_type": "code",
   "execution_count": 16,
   "id": "71059255",
   "metadata": {},
   "outputs": [],
   "source": [
    "# fig, ax = plt.subplots()\n",
    "# df_detectors.plot(ax=ax)"
   ]
  },
  {
   "cell_type": "code",
   "execution_count": 17,
   "id": "1672395d",
   "metadata": {},
   "outputs": [],
   "source": [
    "# fig, ax = plt.subplots()\n",
    "# df_osm.plot(ax=ax)"
   ]
  },
  {
   "cell_type": "code",
   "execution_count": 18,
   "id": "74860329",
   "metadata": {},
   "outputs": [],
   "source": [
    "# fig, ax = plt.subplots()\n",
    "# df_osm_hor.plot(ax=ax)"
   ]
  },
  {
   "attachments": {},
   "cell_type": "markdown",
   "id": "5fdde854",
   "metadata": {},
   "source": [
    "## Matching"
   ]
  },
  {
   "cell_type": "code",
   "execution_count": 19,
   "id": "a47dfaee",
   "metadata": {},
   "outputs": [
    {
     "name": "stderr",
     "output_type": "stream",
     "text": [
      "/var/folders/m_/fjnjc1sn0ggc7z_2y7n27xfh0000gn/T/ipykernel_1537/3904791298.py:3: UserWarning: Geometry is in a geographic CRS. Results from 'centroid' are likely incorrect. Use 'GeoSeries.to_crs()' to re-project geometries to a projected CRS before this operation.\n",
      "\n",
      "  df_detectors[\"geometry\"].centroid.x, df_detectors[\"geometry\"].centroid.y]).T\n",
      "/var/folders/m_/fjnjc1sn0ggc7z_2y7n27xfh0000gn/T/ipykernel_1537/3904791298.py:6: UserWarning: Geometry is in a geographic CRS. Results from 'centroid' are likely incorrect. Use 'GeoSeries.to_crs()' to re-project geometries to a projected CRS before this operation.\n",
      "\n",
      "  df_osm_hor[\"geometry\"].centroid.x, df_osm_hor[\"geometry\"].centroid.y]).T\n"
     ]
    }
   ],
   "source": [
    "# Calculate centroids\n",
    "detector_centroids = np.vstack([\n",
    "    df_detectors[\"geometry\"].centroid.x, df_detectors[\"geometry\"].centroid.y]).T\n",
    "\n",
    "osm_centroids = np.vstack([\n",
    "    df_osm_hor[\"geometry\"].centroid.x, df_osm_hor[\"geometry\"].centroid.y]).T"
   ]
  },
  {
   "cell_type": "code",
   "execution_count": 20,
   "id": "6e1261c9",
   "metadata": {},
   "outputs": [],
   "source": [
    "# Calculate orientation\n",
    "\n",
    "def angle(geometry):\n",
    "    coordinates = np.array(geometry.xy).T\n",
    "    return np.arctan2(coordinates[-1, 1] - coordinates[0, 1], coordinates[-1, 0] - coordinates[0, 0])\n",
    "    \n",
    "detector_angles = df_detectors[\"geometry\"].apply(angle).values\n",
    "osm_angles = df_osm_hor[\"geometry\"].apply(angle).values"
   ]
  },
  {
   "cell_type": "code",
   "execution_count": 21,
   "id": "c48fc97b",
   "metadata": {},
   "outputs": [],
   "source": [
    "# Calculate n-to-m distances\n",
    "centroid_distances = np.zeros((len(detector_centroids), len(osm_centroids)))\n",
    "angle_distances = np.zeros((len(detector_centroids), len(osm_centroids)))"
   ]
  },
  {
   "cell_type": "code",
   "execution_count": 22,
   "id": "9478e0da",
   "metadata": {},
   "outputs": [
    {
     "data": {
      "application/vnd.jupyter.widget-view+json": {
       "model_id": "bb5ed8220ac643b0890414ec29efaa4d",
       "version_major": 2,
       "version_minor": 0
      },
      "text/plain": [
       "  0%|          | 0/3739 [00:00<?, ?it/s]"
      ]
     },
     "metadata": {},
     "output_type": "display_data"
    }
   ],
   "source": [
    "for k in tqdm(range(len(detector_centroids))):\n",
    "    centroid_distances[k,:] = la.norm(detector_centroids[k] - osm_centroids, axis = 1)\n",
    "    angle_distances[k,:] = np.abs(detector_angles[k] - osm_angles)\n",
    "\n",
    "angle_distances[angle_distances < 0.0] += 2.0 * np.pi"
   ]
  },
  {
   "cell_type": "code",
   "execution_count": 23,
   "id": "6386a4dc",
   "metadata": {},
   "outputs": [],
   "source": [
    "# Prepare scoring / matching\n",
    "normalization_variable = angle_distances.mean()/centroid_distances.mean()\n",
    "\n",
    "scores = alpha * centroid_distances + (1-alpha) * (1/normalization_variable) * angle_distances\n",
    "# scores = alpha * centroid_distances + (1-alpha) * 0.1 * angle_distances\n",
    "\n",
    "# Deactivate improbable matchings\n",
    "scores[centroid_distances > maximum_distance] = np.inf\n",
    "scores[angle_distances > maximum_angle] = np.inf"
   ]
  },
  {
   "cell_type": "code",
   "execution_count": 24,
   "id": "582ea5d1",
   "metadata": {},
   "outputs": [
    {
     "data": {
      "text/plain": [
       "0.0596865587245606"
      ]
     },
     "execution_count": 24,
     "metadata": {},
     "output_type": "execute_result"
    }
   ],
   "source": [
    "centroid_distances.mean()"
   ]
  },
  {
   "cell_type": "code",
   "execution_count": 25,
   "id": "946611c3",
   "metadata": {},
   "outputs": [
    {
     "data": {
      "application/vnd.jupyter.widget-view+json": {
       "model_id": "b6b891ae66a94184a7367577645293d9",
       "version_major": 2,
       "version_minor": 0
      },
      "text/plain": [
       "  0%|          | 0/2489134 [00:00<?, ?it/s]"
      ]
     },
     "metadata": {},
     "output_type": "display_data"
    }
   ],
   "source": [
    "# Matching process\n",
    "matchings = []\n",
    "matched_scores = []\n",
    "\n",
    "# The idea is relatively simple:\n",
    "# - Find the matching with the smallest score among those with a finite value\n",
    "# - Note down the matching, and set all matching containing the two links to Inf\n",
    "# - Continue until no scores with finite value are left\n",
    "\n",
    "current = np.count_nonzero(~np.isfinite(scores))\n",
    "\n",
    "with tqdm(total = np.prod(scores.shape) - current) as progress:\n",
    "    while np.count_nonzero(np.isfinite(scores)) > 0:\n",
    "        # Find best score and note down\n",
    "        index = np.unravel_index(np.argmin(scores), scores.shape)\n",
    "        matched_scores.append(scores[index])\n",
    "\n",
    "        # Set both invlved links to Inf\n",
    "        scores[index[0], :] = np.inf\n",
    "        scores[:, index[1]] = np.inf\n",
    "        \n",
    "        # Manage progress plotting\n",
    "        update = np.count_nonzero(~np.isfinite(scores))\n",
    "        \n",
    "        if update > current:\n",
    "            progress.update(update - current)\n",
    "            current = update\n",
    "\n",
    "        matchings.append(index)\n",
    "        \n",
    "matchings = np.array(matchings) # The matchings themselves (index reference, index matsim)\n",
    "matched_scores = np.array(matched_scores) # The scores of the matchings"
   ]
  },
  {
   "attachments": {},
   "cell_type": "markdown",
   "id": "17bc09aa",
   "metadata": {},
   "source": [
    "## Output"
   ]
  },
  {
   "cell_type": "code",
   "execution_count": 26,
   "id": "f5ce77b2",
   "metadata": {},
   "outputs": [],
   "source": [
    "# Construct a data set containing all matching information\n",
    "df_matching = pd.DataFrame({\n",
    "    \"iu_ac\": df_detectors.iloc[matchings[:, 0]][\"iu_ac\"].values,\n",
    "    \"geometry_detector\": df_detectors.iloc[matchings[:, 0]][\"geometry\"].values,\n",
    "    \"osm_id\": df_osm_hor.iloc[matchings[:,1]][\"osm_id\"].values,\n",
    "    \"lanes\": df_osm_hor.iloc[matchings[:, 1]][\"lanes\"].values,\n",
    "    \"highway\": df_osm_hor.iloc[matchings[:, 1]][\"highway\"].values,\n",
    "    \"oneway\": df_osm_hor.iloc[matchings[:, 1]][\"oneway\"].values,\n",
    "    \"length_mapped_osm_street\": df_osm_hor.iloc[matchings[:, 1]][\"length\"].values,\n",
    "    \"score\": matched_scores,\n",
    "    \"date_start\": df_detectors.iloc[matchings[:,0]][\"date_debut\"].values,\n",
    "    \"date_end\": df_detectors.iloc[matchings[:,0]][\"date_fin\"].values,\n",
    "})\n",
    "df_matching = df_matching.sort_values(by='iu_ac')"
   ]
  },
  {
   "cell_type": "code",
   "execution_count": 27,
   "id": "211b9077",
   "metadata": {},
   "outputs": [],
   "source": [
    "df_matching['length_detector_street'] = df_matching['geometry_detector'].apply(lambda x: line_length_in_meters(x))\n",
    "df_matching['lanes_mapped'] = df_matching['lanes'].apply(parse_and_average_lanes)\n",
    "df_matched_with_lanes_approximated = approximate_number_of_lanes(df_matching)"
   ]
  },
  {
   "cell_type": "code",
   "execution_count": 28,
   "id": "48237511",
   "metadata": {},
   "outputs": [],
   "source": [
    "if year == 2023:\n",
    "    # nan_count = df_matched_with_lanes_approximated['lanes_mapped'].isna().sum()\n",
    "    # print(\"Number of NaN values in 'lanes_mapped' column:\", nan_count)\n",
    "    \n",
    "    # number of lanes are missing for highways of type \"primary_link\", \"secondary_link\", \"trunk_link\" and \"tertiary_link\"\n",
    "    number_of_lanes_primary_link = df_matched_with_lanes_approximated[df_matched_with_lanes_approximated['highway'] == 'primary']['lanes_mapped'].mean()\n",
    "    number_of_lanes_secondary_link = df_matched_with_lanes_approximated[df_matched_with_lanes_approximated['highway'] == 'secondary']['lanes_mapped'].mean()\n",
    "    number_of_lanes_tertiary_link = df_matched_with_lanes_approximated[df_matched_with_lanes_approximated['highway'] == 'tertiary']['lanes_mapped'].mean()\n",
    "    number_of_lanes_trunk_link = df_matched_with_lanes_approximated[df_matched_with_lanes_approximated['highway'] == 'trunk']['lanes_mapped'].mean()\n",
    "    print(number_of_lanes_primary_link, number_of_lanes_secondary_link, number_of_lanes_trunk_link)\n",
    "    \n",
    "    df_matched_with_lanes_approximated.loc[df_matched_with_lanes_approximated['highway'] == 'primary_link', 'lanes_mapped'] = number_of_lanes_primary_link\n",
    "    df_matched_with_lanes_approximated.loc[df_matched_with_lanes_approximated['highway'] == 'secondary_link', 'lanes_mapped'] = number_of_lanes_secondary_link\n",
    "    df_matched_with_lanes_approximated.loc[df_matched_with_lanes_approximated['highway'] == 'tertiary_link', 'lanes_mapped'] = number_of_lanes_tertiary_link\n",
    "    df_matched_with_lanes_approximated.loc[df_matched_with_lanes_approximated['highway'] == 'trunk_link', 'lanes_mapped'] = number_of_lanes_trunk_link\n",
    "    \n",
    "    # nan_count = df_matched_with_lanes_approximated['lanes_mapped'].isna().sum()\n",
    "    # print(\"Number of NaN values in 'lanes_mapped' column:\", nan_count)"
   ]
  },
  {
   "cell_type": "code",
   "execution_count": 29,
   "id": "a6cb271c",
   "metadata": {},
   "outputs": [],
   "source": [
    "p = 0.9\n",
    "percentile = df_matched_with_lanes_approximated['score'].quantile(p)\n",
    "\n",
    "df_matching_best = df_matched_with_lanes_approximated[df_matched_with_lanes_approximated['score'] < percentile]\n",
    "gdf_matched = gpd.GeoDataFrame(df_matching_best, geometry='geometry_detector')"
   ]
  },
  {
   "cell_type": "code",
   "execution_count": 30,
   "id": "2351ce72",
   "metadata": {},
   "outputs": [
    {
     "data": {
      "text/html": [
       "<div>\n",
       "<style scoped>\n",
       "    .dataframe tbody tr th:only-of-type {\n",
       "        vertical-align: middle;\n",
       "    }\n",
       "\n",
       "    .dataframe tbody tr th {\n",
       "        vertical-align: top;\n",
       "    }\n",
       "\n",
       "    .dataframe thead th {\n",
       "        text-align: right;\n",
       "    }\n",
       "</style>\n",
       "<table border=\"1\" class=\"dataframe\">\n",
       "  <thead>\n",
       "    <tr style=\"text-align: right;\">\n",
       "      <th></th>\n",
       "      <th>iu_ac</th>\n",
       "      <th>geometry_detector</th>\n",
       "      <th>osm_id</th>\n",
       "      <th>lanes</th>\n",
       "      <th>highway</th>\n",
       "      <th>oneway</th>\n",
       "      <th>length_mapped_osm_street</th>\n",
       "      <th>score</th>\n",
       "      <th>date_start</th>\n",
       "      <th>date_end</th>\n",
       "      <th>length_detector_street</th>\n",
       "      <th>lanes_mapped</th>\n",
       "    </tr>\n",
       "  </thead>\n",
       "  <tbody>\n",
       "    <tr>\n",
       "      <th>2838</th>\n",
       "      <td>1</td>\n",
       "      <td>LINESTRING (2.33342 48.86003, 2.33506 48.85965)</td>\n",
       "      <td>13594</td>\n",
       "      <td>[5, 4]</td>\n",
       "      <td>primary</td>\n",
       "      <td>True</td>\n",
       "      <td>699.889</td>\n",
       "      <td>0.001053</td>\n",
       "      <td>1996-10-03 02:00:00</td>\n",
       "      <td>2023-01-01 01:00:00</td>\n",
       "      <td>127.877045</td>\n",
       "      <td>4.500000</td>\n",
       "    </tr>\n",
       "    <tr>\n",
       "      <th>1322</th>\n",
       "      <td>10</td>\n",
       "      <td>LINESTRING (2.34947 48.85648, 2.35059 48.85606)</td>\n",
       "      <td>996</td>\n",
       "      <td>4</td>\n",
       "      <td>primary</td>\n",
       "      <td>True</td>\n",
       "      <td>148.501</td>\n",
       "      <td>0.000260</td>\n",
       "      <td>1996-10-03 02:00:00</td>\n",
       "      <td>2023-01-01 01:00:00</td>\n",
       "      <td>94.716807</td>\n",
       "      <td>4.000000</td>\n",
       "    </tr>\n",
       "    <tr>\n",
       "      <th>1031</th>\n",
       "      <td>100</td>\n",
       "      <td>LINESTRING (2.34994 48.84888, 2.34916 48.84992)</td>\n",
       "      <td>3046</td>\n",
       "      <td>2</td>\n",
       "      <td>secondary</td>\n",
       "      <td>False</td>\n",
       "      <td>119.990</td>\n",
       "      <td>0.000200</td>\n",
       "      <td>1996-10-03 02:00:00</td>\n",
       "      <td>2023-01-01 01:00:00</td>\n",
       "      <td>128.196599</td>\n",
       "      <td>2.000000</td>\n",
       "    </tr>\n",
       "    <tr>\n",
       "      <th>2783</th>\n",
       "      <td>1001</td>\n",
       "      <td>LINESTRING (2.40343 48.82928, 2.40184 48.82969...</td>\n",
       "      <td>16925</td>\n",
       "      <td>2</td>\n",
       "      <td>tertiary</td>\n",
       "      <td>True</td>\n",
       "      <td>54.790</td>\n",
       "      <td>0.000953</td>\n",
       "      <td>1996-10-03 02:00:00</td>\n",
       "      <td>2023-01-01 01:00:00</td>\n",
       "      <td>202.462897</td>\n",
       "      <td>2.000000</td>\n",
       "    </tr>\n",
       "    <tr>\n",
       "      <th>3332</th>\n",
       "      <td>1005</td>\n",
       "      <td>LINESTRING (2.33249 48.82783, 2.32726 48.82788...</td>\n",
       "      <td>17191</td>\n",
       "      <td>NaN</td>\n",
       "      <td>primary</td>\n",
       "      <td>True</td>\n",
       "      <td>15.882</td>\n",
       "      <td>0.003538</td>\n",
       "      <td>1996-10-03 02:00:00</td>\n",
       "      <td>2023-01-01 01:00:00</td>\n",
       "      <td>418.329528</td>\n",
       "      <td>3.039246</td>\n",
       "    </tr>\n",
       "    <tr>\n",
       "      <th>...</th>\n",
       "      <td>...</td>\n",
       "      <td>...</td>\n",
       "      <td>...</td>\n",
       "      <td>...</td>\n",
       "      <td>...</td>\n",
       "      <td>...</td>\n",
       "      <td>...</td>\n",
       "      <td>...</td>\n",
       "      <td>...</td>\n",
       "      <td>...</td>\n",
       "      <td>...</td>\n",
       "      <td>...</td>\n",
       "    </tr>\n",
       "    <tr>\n",
       "      <th>925</th>\n",
       "      <td>994</td>\n",
       "      <td>LINESTRING (2.39934 48.83079, 2.39797 48.83170)</td>\n",
       "      <td>12714</td>\n",
       "      <td>2</td>\n",
       "      <td>primary</td>\n",
       "      <td>False</td>\n",
       "      <td>117.089</td>\n",
       "      <td>0.000181</td>\n",
       "      <td>1996-10-03 02:00:00</td>\n",
       "      <td>2023-01-01 01:00:00</td>\n",
       "      <td>142.898625</td>\n",
       "      <td>2.000000</td>\n",
       "    </tr>\n",
       "    <tr>\n",
       "      <th>652</th>\n",
       "      <td>994</td>\n",
       "      <td>LINESTRING (2.40099 48.82974, 2.39934 48.83079)</td>\n",
       "      <td>17978</td>\n",
       "      <td>2</td>\n",
       "      <td>primary</td>\n",
       "      <td>False</td>\n",
       "      <td>148.970</td>\n",
       "      <td>0.000135</td>\n",
       "      <td>2005-01-01 01:00:00</td>\n",
       "      <td>2019-06-01 02:00:00</td>\n",
       "      <td>167.555671</td>\n",
       "      <td>2.000000</td>\n",
       "    </tr>\n",
       "    <tr>\n",
       "      <th>3014</th>\n",
       "      <td>995</td>\n",
       "      <td>LINESTRING (2.40087 48.82964, 2.40158 48.82919)</td>\n",
       "      <td>17979</td>\n",
       "      <td>1</td>\n",
       "      <td>primary</td>\n",
       "      <td>True</td>\n",
       "      <td>18.987</td>\n",
       "      <td>0.001431</td>\n",
       "      <td>1996-10-03 02:00:00</td>\n",
       "      <td>2023-01-01 01:00:00</td>\n",
       "      <td>72.996578</td>\n",
       "      <td>1.000000</td>\n",
       "    </tr>\n",
       "    <tr>\n",
       "      <th>2484</th>\n",
       "      <td>996</td>\n",
       "      <td>LINESTRING (2.40170 48.82925, 2.40099 48.82974)</td>\n",
       "      <td>17681</td>\n",
       "      <td>2</td>\n",
       "      <td>primary</td>\n",
       "      <td>True</td>\n",
       "      <td>27.162</td>\n",
       "      <td>0.000649</td>\n",
       "      <td>1996-10-03 02:00:00</td>\n",
       "      <td>2023-01-01 01:00:00</td>\n",
       "      <td>75.908464</td>\n",
       "      <td>2.000000</td>\n",
       "    </tr>\n",
       "    <tr>\n",
       "      <th>148</th>\n",
       "      <td>998</td>\n",
       "      <td>LINESTRING (2.39988 48.83265, 2.39776 48.83184)</td>\n",
       "      <td>9144</td>\n",
       "      <td>2</td>\n",
       "      <td>primary</td>\n",
       "      <td>True</td>\n",
       "      <td>181.726</td>\n",
       "      <td>0.000062</td>\n",
       "      <td>1996-10-03 02:00:00</td>\n",
       "      <td>2023-01-01 01:00:00</td>\n",
       "      <td>179.434811</td>\n",
       "      <td>2.000000</td>\n",
       "    </tr>\n",
       "  </tbody>\n",
       "</table>\n",
       "<p>3365 rows × 12 columns</p>\n",
       "</div>"
      ],
      "text/plain": [
       "     iu_ac                                  geometry_detector  osm_id   lanes  \\\n",
       "2838     1    LINESTRING (2.33342 48.86003, 2.33506 48.85965)   13594  [5, 4]   \n",
       "1322    10    LINESTRING (2.34947 48.85648, 2.35059 48.85606)     996       4   \n",
       "1031   100    LINESTRING (2.34994 48.84888, 2.34916 48.84992)    3046       2   \n",
       "2783  1001  LINESTRING (2.40343 48.82928, 2.40184 48.82969...   16925       2   \n",
       "3332  1005  LINESTRING (2.33249 48.82783, 2.32726 48.82788...   17191     NaN   \n",
       "...    ...                                                ...     ...     ...   \n",
       "925    994    LINESTRING (2.39934 48.83079, 2.39797 48.83170)   12714       2   \n",
       "652    994    LINESTRING (2.40099 48.82974, 2.39934 48.83079)   17978       2   \n",
       "3014   995    LINESTRING (2.40087 48.82964, 2.40158 48.82919)   17979       1   \n",
       "2484   996    LINESTRING (2.40170 48.82925, 2.40099 48.82974)   17681       2   \n",
       "148    998    LINESTRING (2.39988 48.83265, 2.39776 48.83184)    9144       2   \n",
       "\n",
       "        highway  oneway  length_mapped_osm_street     score  \\\n",
       "2838    primary    True                   699.889  0.001053   \n",
       "1322    primary    True                   148.501  0.000260   \n",
       "1031  secondary   False                   119.990  0.000200   \n",
       "2783   tertiary    True                    54.790  0.000953   \n",
       "3332    primary    True                    15.882  0.003538   \n",
       "...         ...     ...                       ...       ...   \n",
       "925     primary   False                   117.089  0.000181   \n",
       "652     primary   False                   148.970  0.000135   \n",
       "3014    primary    True                    18.987  0.001431   \n",
       "2484    primary    True                    27.162  0.000649   \n",
       "148     primary    True                   181.726  0.000062   \n",
       "\n",
       "              date_start            date_end  length_detector_street  \\\n",
       "2838 1996-10-03 02:00:00 2023-01-01 01:00:00              127.877045   \n",
       "1322 1996-10-03 02:00:00 2023-01-01 01:00:00               94.716807   \n",
       "1031 1996-10-03 02:00:00 2023-01-01 01:00:00              128.196599   \n",
       "2783 1996-10-03 02:00:00 2023-01-01 01:00:00              202.462897   \n",
       "3332 1996-10-03 02:00:00 2023-01-01 01:00:00              418.329528   \n",
       "...                  ...                 ...                     ...   \n",
       "925  1996-10-03 02:00:00 2023-01-01 01:00:00              142.898625   \n",
       "652  2005-01-01 01:00:00 2019-06-01 02:00:00              167.555671   \n",
       "3014 1996-10-03 02:00:00 2023-01-01 01:00:00               72.996578   \n",
       "2484 1996-10-03 02:00:00 2023-01-01 01:00:00               75.908464   \n",
       "148  1996-10-03 02:00:00 2023-01-01 01:00:00              179.434811   \n",
       "\n",
       "      lanes_mapped  \n",
       "2838      4.500000  \n",
       "1322      4.000000  \n",
       "1031      2.000000  \n",
       "2783      2.000000  \n",
       "3332      3.039246  \n",
       "...            ...  \n",
       "925       2.000000  \n",
       "652       2.000000  \n",
       "3014      1.000000  \n",
       "2484      2.000000  \n",
       "148       2.000000  \n",
       "\n",
       "[3365 rows x 12 columns]"
      ]
     },
     "execution_count": 30,
     "metadata": {},
     "output_type": "execute_result"
    }
   ],
   "source": [
    "gdf_matched"
   ]
  },
  {
   "cell_type": "code",
   "execution_count": 31,
   "id": "5329dc23",
   "metadata": {},
   "outputs": [],
   "source": [
    "detectors_delivering_data_2023 = np.loadtxt(data_path + 'detectors_delivering_data_2023.csv', delimiter=\",\", dtype=int)"
   ]
  },
  {
   "cell_type": "code",
   "execution_count": 32,
   "id": "435368f2",
   "metadata": {},
   "outputs": [
    {
     "data": {
      "text/plain": [
       "array([   5,    7,    8, ..., 7069, 7250, 7257])"
      ]
     },
     "execution_count": 32,
     "metadata": {},
     "output_type": "execute_result"
    }
   ],
   "source": [
    "detectors_delivering_data_2023"
   ]
  },
  {
   "cell_type": "code",
   "execution_count": 33,
   "id": "67baba46",
   "metadata": {},
   "outputs": [],
   "source": [
    "# Convert 'iu_ac' column in gdf_matched to integers\n",
    "gdf_matched['iu_ac'] = gdf_matched['iu_ac'].astype(int)\n",
    "detectors_delivering_data_matched = gdf_matched[gdf_matched['iu_ac'].isin(detectors_delivering_data_2023)]"
   ]
  },
  {
   "cell_type": "code",
   "execution_count": 34,
   "id": "6bd1d9eb",
   "metadata": {},
   "outputs": [
    {
     "name": "stdout",
     "output_type": "stream",
     "text": [
      "Total length of 'length_mapped_osm_street' for detectors_delivering_data_matched: 240.65728000000001\n"
     ]
    }
   ],
   "source": [
    "# Compute the total length of 'length_mapped_osm_street' for detectors_delivering_data_matched\n",
    "total_length_mapped_osm_street = detectors_delivering_data_matched['length_mapped_osm_street'].sum()/1000\n",
    "\n",
    "# Print the total length\n",
    "print(\"Total length of 'length_mapped_osm_street' for detectors_delivering_data_matched:\", total_length_mapped_osm_street)\n"
   ]
  },
  {
   "cell_type": "markdown",
   "id": "f59645c9",
   "metadata": {},
   "source": [
    "### Detectors delivering data"
   ]
  },
  {
   "cell_type": "code",
   "execution_count": 56,
   "id": "992fa58f",
   "metadata": {},
   "outputs": [
    {
     "name": "stdout",
     "output_type": "stream",
     "text": [
      "Primary highway detectors total length (km): 116.990911\n",
      "Secondary highway detectors total length (km): 52.36389200000001\n",
      "Tertiary highway detectors total length (km): 14.527676000000001\n",
      "Trunk highway detectors total length (km): 49.076685\n",
      "Primary highway detectors percentage of total network: 6.52%\n",
      "Secondary highway detectors percentage of total network: 2.92%\n",
      "Tertiary highway detectors percentage of total network: 0.81%\n",
      "Trunk highway detectors percentage of total network: 2.74%\n",
      "Motorway highway detectors total length (km): 0.918958\n",
      "Motorway highway detectors percentage of total network: 0.05%\n"
     ]
    }
   ],
   "source": [
    "# Group detectors_delivering_data_matched by 'highway' and create separate dataframes for each group\n",
    "highway_groups = detectors_delivering_data_matched.groupby('highway')\n",
    "\n",
    "# Create a dictionary to store the separate dataframes\n",
    "highway_dfs = {highway: group for highway, group in highway_groups}\n",
    "\n",
    "# Example: Accessing the dataframe for a specific highway type\n",
    "primary_highway_df = highway_dfs.get('primary', pd.DataFrame())\n",
    "secondary_highway_df = highway_dfs.get('secondary', pd.DataFrame())\n",
    "tertiary_highway_df = highway_dfs.get('tertiary', pd.DataFrame())\n",
    "trunk_highway_df = highway_dfs.get('trunk', pd.DataFrame())\n",
    "\n",
    "# Group motorway and motorway_link together, and all other pairs to yield one length\n",
    "grouped_highways = {\n",
    "    'motorway': ['motorway', 'motorway_link'],\n",
    "    'primary': ['primary', 'primary_link'],\n",
    "    'secondary': ['secondary', 'secondary_link'],\n",
    "    'tertiary': ['tertiary', 'tertiary_link'],\n",
    "    'trunk': ['trunk', 'trunk_link']\n",
    "}\n",
    "    \n",
    "# Convert the lengths from meters to kilometers for each highway type dataframe\n",
    "primary_highway_df['length_detector_street_km'] = primary_highway_df['length_mapped_osm_street'] / 1000\n",
    "secondary_highway_df['length_detector_street_km'] = secondary_highway_df['length_mapped_osm_street'] / 1000\n",
    "tertiary_highway_df['length_detector_street_km'] = tertiary_highway_df['length_mapped_osm_street'] / 1000\n",
    "trunk_highway_df['length_detector_street_km'] = trunk_highway_df['length_mapped_osm_street'] / 1000\n",
    "\n",
    "# Print the total lengths in kilometers for each highway type\n",
    "print(\"Primary highway detectors total length (km):\", primary_highway_df['length_detector_street_km'].sum())\n",
    "print(\"Secondary highway detectors total length (km):\", secondary_highway_df['length_detector_street_km'].sum())\n",
    "print(\"Tertiary highway detectors total length (km):\", tertiary_highway_df['length_detector_street_km'].sum())\n",
    "print(\"Trunk highway detectors total length (km):\", trunk_highway_df['length_detector_street_km'].sum())\n",
    "\n",
    "# Calculate the percentage of each highway type length in comparison to the total network length\n",
    "primary_percentage = (primary_highway_df['length_detector_street_km'].sum() / total_network_length_km) * 100\n",
    "secondary_percentage = (secondary_highway_df['length_detector_street_km'].sum() / total_network_length_km) * 100\n",
    "tertiary_percentage = (tertiary_highway_df['length_detector_street_km'].sum() / total_network_length_km) * 100\n",
    "trunk_percentage = (trunk_highway_df['length_detector_street_km'].sum() / total_network_length_km) * 100\n",
    "\n",
    "# Print the percentages for each highway type\n",
    "print(f\"Primary highway detectors percentage of total network: {primary_percentage:.2f}%\")\n",
    "print(f\"Secondary highway detectors percentage of total network: {secondary_percentage:.2f}%\")\n",
    "print(f\"Tertiary highway detectors percentage of total network: {tertiary_percentage:.2f}%\")\n",
    "print(f\"Trunk highway detectors percentage of total network: {trunk_percentage:.2f}%\")\n",
    "\n",
    "# Create a dataframe for the 'motorway' highway type\n",
    "motorway_highway_df = highway_dfs.get('motorway', pd.DataFrame())\n",
    "\n",
    "# Convert the lengths from meters to kilometers for the motorway highway type dataframe\n",
    "motorway_highway_df['length_detector_street_km'] = motorway_highway_df['length_mapped_osm_street'] / 1000\n",
    "\n",
    "# Print the total length in kilometers for the motorway highway type\n",
    "print(\"Motorway highway detectors total length (km):\", motorway_highway_df['length_detector_street_km'].sum())\n",
    "\n",
    "# Calculate the percentage of motorway highway type length in comparison to the total network length\n",
    "motorway_percentage = (motorway_highway_df['length_detector_street_km'].sum() / total_network_length_km) * 100\n",
    "\n",
    "# Print the percentage for the motorway highway type\n",
    "print(f\"Motorway highway detectors percentage of total network: {motorway_percentage:.2f}%\")\n",
    "\n"
   ]
  },
  {
   "cell_type": "code",
   "execution_count": 36,
   "id": "004e1add",
   "metadata": {},
   "outputs": [
    {
     "name": "stdout",
     "output_type": "stream",
     "text": [
      "Total network length: 1793.19 km\n",
      "Total length of trunk highways: 108.84 km\n",
      "Percentage of trunk highways in the total network: 6.07%\n",
      "Total length of motorway highways: 5.63 km\n",
      "Percentage of motorway highways in the total network: 0.31%\n",
      "Total length of primary highways: 295.57 km\n",
      "Percentage of primary highways in the total network: 16.48%\n",
      "Total length of secondary highways: 218.67 km\n",
      "Percentage of secondary highways in the total network: 12.19%\n",
      "Total length of tertiary highways: 228.15 km\n",
      "Percentage of tertiary highways in the total network: 12.72%\n"
     ]
    }
   ],
   "source": [
    "# Calculate the total length of highways with classification \"Trunk\", \"Motorway\", \"Primary\", \"Secondary\", and \"Tertiary\" in df_osm\n",
    "highway_types = ['trunk', 'motorway', 'primary', 'secondary', 'tertiary']\n",
    "highway_lengths = {}\n",
    "\n",
    "for highway in highway_types:\n",
    "    highway_lengths[highway] = df_osm[df_osm['highway'].isin([highway, f'{highway}_link'])]['length'].sum()\n",
    "\n",
    "# Calculate the total length of the entire network in df_osm\n",
    "total_network_length = df_osm['length'].sum()\n",
    "\n",
    "# Convert the lengths from meters to kilometers\n",
    "for highway in highway_lengths:\n",
    "    highway_lengths[highway] = highway_lengths[highway] / 1000\n",
    "\n",
    "total_network_length_km = total_network_length / 1000\n",
    "print(f\"Total network length: {total_network_length_km:.2f} km\")\n",
    "\n",
    "\n",
    "# Calculate the percentage of each highway type length in comparison to the total network length\n",
    "highway_percentages = {highway: (length / total_network_length_km) * 100 for highway, length in highway_lengths.items()}\n",
    "\n",
    "# Print the results in kilometers and percentages\n",
    "for highway in highway_lengths:\n",
    "    print(f\"Total length of {highway} highways: {highway_lengths[highway]:.2f} km\")\n",
    "    print(f\"Percentage of {highway} highways in the total network: {highway_percentages[highway]:.2f}%\")"
   ]
  },
  {
   "cell_type": "code",
   "execution_count": 47,
   "id": "c337a471",
   "metadata": {},
   "outputs": [],
   "source": []
  },
  {
   "cell_type": "code",
   "execution_count": 37,
   "id": "eee0bb6e",
   "metadata": {},
   "outputs": [],
   "source": [
    "# save the results\n",
    "\n",
    "# df_matching_best.to_csv(output_path + \"_best_matches.csv\", sep=\";\", index=False)\n",
    "# df_matched_with_lanes_approximated.to_csv(output_path + \".csv\", sep=\";\", index=False)"
   ]
  },
  {
   "attachments": {},
   "cell_type": "markdown",
   "id": "db7dd6f2",
   "metadata": {},
   "source": [
    "## Plot for districts"
   ]
  },
  {
   "cell_type": "code",
   "execution_count": 38,
   "id": "d016e8ae",
   "metadata": {},
   "outputs": [],
   "source": [
    "# districts = gpd.read_file(data_path + 'districts_paris.geojson')"
   ]
  },
  {
   "cell_type": "code",
   "execution_count": 39,
   "id": "e09a4784",
   "metadata": {},
   "outputs": [],
   "source": [
    "# # filter detectors for date_debut and date_fin\n",
    "# start_date = pd.Timestamp('2023-01-01 00:00:00+0000', tz='UTC')\n",
    "# df_detectors_2023 = df_detectors[(df_detectors['date_debut'] <= start_date) & (df_detectors['date_fin'] >= start_date)]\n",
    "\n",
    "# zone1 = districts[(districts['c_ar'] == 1) | (districts['c_ar'] == 2) | (districts['c_ar'] == 3) | (districts['c_ar'] == 4)]\n",
    "# zone2 = districts[(districts['c_ar'] == 5) | (districts['c_ar'] == 6) | (districts['c_ar'] == 7)]\n",
    "# zone_1_boundary = zone1.geometry.unary_union\n",
    "# zone_2_boundary = zone2.geometry.unary_union\n",
    "\n",
    "# gdf_matched_intersect_zone_1_boundary = gdf_matched[gdf_matched.intersects(zone_1_boundary)]\n",
    "# df_osm_hor_intersect_zone_1_boundary = df_osm_hor[df_osm_hor.intersects(zone_1_boundary)]\n",
    "# df_detectors_intersect_zone_1_boundary = df_detectors_2023[df_detectors_2023.intersects(zone_1_boundary)]\n",
    "\n",
    "# gdf_matched_intersect_zone_2_boundary = gdf_matched[gdf_matched.intersects(zone_2_boundary)]\n",
    "# df_osm_hor_intersect_zone_2_boundary = df_osm_hor[df_osm_hor.intersects(zone_2_boundary)]\n",
    "# df_detectors_intersect_zone_2_boundary = df_detectors_2023[df_detectors_2023.intersects(zone_2_boundary)]\n",
    "# df_osm_intersect_zone_1_boundary = df_osm[df_osm.intersects(zone_1_boundary)]\n",
    "# df_osm_intersect_zone_2_boundary = df_osm[df_osm.intersects(zone_2_boundary)]"
   ]
  },
  {
   "cell_type": "code",
   "execution_count": 40,
   "id": "5732d3b7",
   "metadata": {},
   "outputs": [],
   "source": [
    "# fig, ax = plt.subplots(figsize=(12, 10))\n",
    "# df_osm_intersect_zone_1_boundary.plot(ax=ax, linewidth = 0.5, color = \"grey\", label = \"OSM road network\")\n",
    "# df_osm_hor_intersect_zone_1_boundary.plot(ax=ax, color = 'orange', linewidth = 4, label = \"OSM higher order roads on 01.01.2024\")\n",
    "# df_detectors_intersect_zone_1_boundary.plot(ax=ax, linewidth=2, color = \"green\", label = \"Detector network\")\n",
    "# gdf_matched_intersect_zone_1_boundary.plot(ax=ax, color = 'blue', linewidth=1, label = \"Detectors matched to OSM higher order roads\")\n",
    "\n",
    "# df_osm_intersect_zone_2_boundary.plot(ax=ax, linewidth = 0.5, color = \"grey\")\n",
    "# df_osm_hor_intersect_zone_2_boundary.plot(ax=ax, color = 'orange', linewidth = 4)\n",
    "# df_detectors_intersect_zone_2_boundary.plot(ax=ax, linewidth=2, color = \"green\")\n",
    "# gdf_matched_intersect_zone_2_boundary.plot(ax=ax, color = 'blue', linewidth=1)\n",
    "\n",
    "# exterior_x, exterior_y = zone_1_boundary.exterior.xy\n",
    "# plt.plot(exterior_x, exterior_y, color = 'magenta', linewidth = 4, label = \"District 1 boundary\")\n",
    "\n",
    "# exterior_x_zone_2, exterior_y_zone_2 = zone_2_boundary.exterior.xy\n",
    "# plt.plot(exterior_x_zone_2, exterior_y_zone_2, color = 'purple', linewidth = 4, label = \"District 2 boundary\")\n",
    "\n",
    "# plt.xlabel(\"Longitude\", font = font, fontsize = fontsize)\n",
    "# plt.ylabel(\"Latitude\", font = font, fontsize = fontsize)\n",
    "# plt.title(\"Zone 1 and 2: Matches of detectors to OSM higher order roads\", font = font, fontsize = fontsize)\n",
    "# plt.xticks(font = font, fontsize = 15)\n",
    "# plt.yticks(font = font, fontsize = 15)\n",
    "# font_legend = font_manager.FontProperties(family=font, style='normal', size=15)\n",
    "# plt.legend(loc='lower left', prop = font_legend)\n",
    "# plt.savefig(\"results/zone_1_matched.pdf\", dpi=1000, bbox_inches='tight')"
   ]
  },
  {
   "cell_type": "code",
   "execution_count": 41,
   "id": "5535eab7",
   "metadata": {},
   "outputs": [],
   "source": [
    "# fig, ax = plt.subplots(figsize=(12, 10))\n",
    "# df_osm_intersect_zone_1_boundary.plot(ax=ax, linewidth = 0.5, color = \"grey\", label = \"OSM road network\")\n",
    "# df_osm_hor_intersect_zone_1_boundary.plot(ax=ax, color = 'orange', linewidth = 4, label = \"OSM higher order roads on 01.01.2024\")\n",
    "# df_detectors_intersect_zone_1_boundary.plot(ax=ax, linewidth=2, color = \"green\", label = \"Detector network\")\n",
    "\n",
    "# df_osm_intersect_zone_2_boundary.plot(ax=ax, linewidth = 0.5, color = \"grey\")\n",
    "# df_osm_hor_intersect_zone_2_boundary.plot(ax=ax, color = 'orange', linewidth = 4)\n",
    "# df_detectors_intersect_zone_2_boundary.plot(ax=ax, linewidth=2, color = \"green\")\n",
    "\n",
    "# exterior_x, exterior_y = zone_1_boundary.exterior.xy\n",
    "# plt.plot(exterior_x, exterior_y, color = 'magenta', linewidth = 4, label = \"District 1 boundary\")\n",
    "\n",
    "# exterior_x_zone_2, exterior_y_zone_2 = zone_2_boundary.exterior.xy\n",
    "# plt.plot(exterior_x_zone_2, exterior_y_zone_2, color = 'purple', linewidth = 4, label = \"District 2 boundary\")\n",
    "\n",
    "# plt.xlabel(\"Longitude\", font = font, fontsize = fontsize)\n",
    "# plt.ylabel(\"Latitude\", font = font, fontsize = fontsize)\n",
    "# plt.title(\"Zone 1 and 2: OSM higher roads and detector network\", font = font, fontsize = fontsize)\n",
    "# plt.xticks(font = font, fontsize = 15)\n",
    "# plt.yticks(font = font, fontsize = 15)\n",
    "# font_legend = font_manager.FontProperties(family=font, style='normal', size=15)\n",
    "# plt.legend(loc='lower left', prop = font_legend)\n",
    "# plt.savefig(\"results/zone_1_osm_hor_and_dets.pdf\", dpi=1000, bbox_inches='tight')"
   ]
  },
  {
   "cell_type": "code",
   "execution_count": 42,
   "id": "7a587571",
   "metadata": {},
   "outputs": [],
   "source": [
    "# def get_length_in_lane_km(gdf):\n",
    "#     length_in_lane_km = 0\n",
    "\n",
    "#     for idx, row in gdf.iterrows():\n",
    "#         length = row['length_detector_street']\n",
    "#         lanes = row['lanes_mapped']\n",
    "#         if pd.isna(lanes):\n",
    "#             continue\n",
    "#         if pd.isna(length):\n",
    "#             continue\n",
    "#         length_in_lane_km += length * lanes / 1000\n",
    "#         # print(length_in_lane_km)\n",
    "#     return length_in_lane_km\n",
    "\n",
    "# length_in_lane_km_zone_1 = get_length_in_lane_km(gdf_matched_intersect_zone_1_boundary)\n",
    "# length_in_lane_km_zone_2 = get_length_in_lane_km(gdf_matched_intersect_zone_2_boundary)\n",
    "    \n",
    "# print(length_in_lane_km_zone_1)\n",
    "# print(length_in_lane_km_zone_2)    "
   ]
  },
  {
   "attachments": {},
   "cell_type": "markdown",
   "id": "d75d7a89",
   "metadata": {},
   "source": [
    "We find, for 01.01.2024:\n",
    "\n",
    "Z1: 78.66487745107128\n",
    "Z2: 121.94722011749302"
   ]
  },
  {
   "attachments": {},
   "cell_type": "markdown",
   "id": "b6d00c10",
   "metadata": {},
   "source": [
    "## Plot overall"
   ]
  },
  {
   "cell_type": "code",
   "execution_count": 43,
   "id": "2e418133",
   "metadata": {},
   "outputs": [],
   "source": [
    "# fig, ax = plt.subplots(figsize=(12, 10))\n",
    "# # df_matching_best.plot(ax=ax, color = 'magenta', linewidth=1, label = \"Matches\")\n",
    "# df_osm_hor.plot(ax=ax, color = 'orange', linewidth = 4, label = \"OSM higher order roads\")\n",
    "# df_detectors.plot(ax=ax, linewidth=1, color = \"green\", label = \"Detectors\")\n",
    "\n",
    "# plt.xlabel(\"Longitude\", font = font, fontsize = fontsize)\n",
    "# plt.ylabel(\"Latitude\", font = font, fontsize = fontsize)\n",
    "# plt.title(\"Paris - OSM higher order roads and detector matches\", font = font, fontsize = fontsize)\n",
    "\n",
    "# plt.xticks(font = font, fontsize = fontsize)\n",
    "# plt.yticks(font = font, fontsize = fontsize)\n",
    "# font_legend = font_manager.FontProperties(family=font, style='normal', size=15)\n",
    "# plt.legend(loc='upper left', prop = font_legend)\n",
    "\n",
    "# plt.savefig(\"results/osm_hor_and_detectors.pdf\", dpi=1000)"
   ]
  },
  {
   "cell_type": "code",
   "execution_count": 44,
   "id": "bbc3332a",
   "metadata": {},
   "outputs": [],
   "source": [
    "# df_comparison = df_detectors.copy()\n",
    "# df_comparison = pd.merge(df_comparison, df_matching)\n",
    "# df_comparison.to_file(\"output/detectors_matched_2_osm.geojson\", driver = 'GeoJSON')"
   ]
  },
  {
   "cell_type": "code",
   "execution_count": 45,
   "id": "5616c064",
   "metadata": {},
   "outputs": [],
   "source": [
    "# osm_matched_2_detectors = df_osm_hor.copy()\n",
    "# osm_matched_2_detectors = pd.merge(osm_matched_2_detectors, df_matching)\n",
    "# osm_matched_2_detectors.to_file(\n",
    "#     \"output/osm_matched_2_detectors.geojson\", driver='GeoJSON')"
   ]
  }
 ],
 "metadata": {
  "kernelspec": {
   "display_name": "Python 3 (ipykernel)",
   "language": "python",
   "name": "python3"
  },
  "language_info": {
   "codemirror_mode": {
    "name": "ipython",
    "version": 3
   },
   "file_extension": ".py",
   "mimetype": "text/x-python",
   "name": "python",
   "nbconvert_exporter": "python",
   "pygments_lexer": "ipython3",
   "version": "3.10.11"
  }
 },
 "nbformat": 4,
 "nbformat_minor": 5
}
