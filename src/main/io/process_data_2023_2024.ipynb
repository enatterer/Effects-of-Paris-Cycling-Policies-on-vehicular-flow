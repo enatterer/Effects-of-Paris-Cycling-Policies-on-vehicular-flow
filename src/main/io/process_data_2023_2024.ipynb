{
 "cells": [
  {
   "cell_type": "code",
   "execution_count": null,
   "metadata": {},
   "outputs": [
    {
     "ename": "DataSourceError",
     "evalue": "traffic_data_2023_2024.geojson: No such file or directory",
     "output_type": "error",
     "traceback": [
      "\u001b[0;31m---------------------------------------------------------------------------\u001b[0m",
      "\u001b[0;31mDataSourceError\u001b[0m                           Traceback (most recent call last)",
      "Cell \u001b[0;32mIn[1], line 4\u001b[0m\n\u001b[1;32m      1\u001b[0m \u001b[39mimport\u001b[39;00m \u001b[39mdask_geopandas\u001b[39;00m \u001b[39mas\u001b[39;00m \u001b[39mdask_gpd\u001b[39;00m\n\u001b[1;32m      3\u001b[0m \u001b[39m# Read the file in chunks\u001b[39;00m\n\u001b[0;32m----> 4\u001b[0m gdf_chunks \u001b[39m=\u001b[39m dask_gpd\u001b[39m.\u001b[39;49mread_file(\n\u001b[1;32m      5\u001b[0m     \u001b[39m'\u001b[39;49m\u001b[39mtraffic_data_2023_2024.geojson\u001b[39;49m\u001b[39m'\u001b[39;49m, chunksize\u001b[39m=\u001b[39;49m\u001b[39m'\u001b[39;49m\u001b[39m100MB\u001b[39;49m\u001b[39m'\u001b[39;49m)\n\u001b[1;32m      6\u001b[0m resultpath \u001b[39m=\u001b[39m \u001b[39m\"\u001b[39m\u001b[39m../../data/\u001b[39m\u001b[39m\"\u001b[39m\n\u001b[1;32m      8\u001b[0m \u001b[39m# Process each chunk in parallel\u001b[39;00m\n",
      "File \u001b[0;32m~/anaconda3/envs/Paris_Analysis/lib/python3.10/site-packages/dask_geopandas/io/file.py:103\u001b[0m, in \u001b[0;36mread_file\u001b[0;34m(path, npartitions, chunksize, layer, columns, **kwargs)\u001b[0m\n\u001b[1;32m    100\u001b[0m \u001b[39mif\u001b[39;00m kwargs:\n\u001b[1;32m    101\u001b[0m     \u001b[39mraise\u001b[39;00m \u001b[39mValueError\u001b[39;00m(\u001b[39m\"\u001b[39m\u001b[39mAdditional pyogrio keywords are not yet supported\u001b[39m\u001b[39m\"\u001b[39m)\n\u001b[0;32m--> 103\u001b[0m total_size \u001b[39m=\u001b[39m pyogrio\u001b[39m.\u001b[39;49mread_info(path, layer\u001b[39m=\u001b[39;49mlayer)[\u001b[39m\"\u001b[39m\u001b[39mfeatures\u001b[39m\u001b[39m\"\u001b[39m]\n\u001b[1;32m    105\u001b[0m \u001b[39mif\u001b[39;00m chunksize \u001b[39mis\u001b[39;00m \u001b[39mNone\u001b[39;00m:\n\u001b[1;32m    106\u001b[0m     chunksize \u001b[39m=\u001b[39m \u001b[39mint\u001b[39m(ceil(total_size \u001b[39m/\u001b[39m npartitions))\n",
      "File \u001b[0;32m~/anaconda3/envs/Paris_Analysis/lib/python3.10/site-packages/pyogrio/core.py:261\u001b[0m, in \u001b[0;36mread_info\u001b[0;34m(path_or_buffer, layer, encoding, force_feature_count, force_total_bounds, **kwargs)\u001b[0m\n\u001b[1;32m    258\u001b[0m dataset_kwargs \u001b[39m=\u001b[39m _preprocess_options_key_value(kwargs) \u001b[39mif\u001b[39;00m kwargs \u001b[39melse\u001b[39;00m {}\n\u001b[1;32m    260\u001b[0m \u001b[39mtry\u001b[39;00m:\n\u001b[0;32m--> 261\u001b[0m     result \u001b[39m=\u001b[39m ogr_read_info(\n\u001b[1;32m    262\u001b[0m         path,\n\u001b[1;32m    263\u001b[0m         layer\u001b[39m=\u001b[39;49mlayer,\n\u001b[1;32m    264\u001b[0m         encoding\u001b[39m=\u001b[39;49mencoding,\n\u001b[1;32m    265\u001b[0m         force_feature_count\u001b[39m=\u001b[39;49mforce_feature_count,\n\u001b[1;32m    266\u001b[0m         force_total_bounds\u001b[39m=\u001b[39;49mforce_total_bounds,\n\u001b[1;32m    267\u001b[0m         dataset_kwargs\u001b[39m=\u001b[39;49mdataset_kwargs,\n\u001b[1;32m    268\u001b[0m     )\n\u001b[1;32m    269\u001b[0m \u001b[39mfinally\u001b[39;00m:\n\u001b[1;32m    270\u001b[0m     \u001b[39mif\u001b[39;00m buffer \u001b[39mis\u001b[39;00m \u001b[39mnot\u001b[39;00m \u001b[39mNone\u001b[39;00m:\n",
      "File \u001b[0;32m~/anaconda3/envs/Paris_Analysis/lib/python3.10/site-packages/pyogrio/_io.pyx:1512\u001b[0m, in \u001b[0;36mpyogrio._io.ogr_read_info\u001b[0;34m()\u001b[0m\n",
      "File \u001b[0;32m~/anaconda3/envs/Paris_Analysis/lib/python3.10/site-packages/pyogrio/_io.pyx:171\u001b[0m, in \u001b[0;36mpyogrio._io.ogr_open\u001b[0;34m()\u001b[0m\n",
      "\u001b[0;31mDataSourceError\u001b[0m: traffic_data_2023_2024.geojson: No such file or directory"
     ]
    }
   ],
   "source": [
    "import dask_geopandas as dask_gpd\n",
    "\n",
    "# Read the file in chunks\n",
    "gdf_chunks = dask_gpd.read_file(\n",
    "    '../../data/traffic_data_2023_2024.geojson', chunksize='100MB')\n",
    "resultpath = \"../../data/\"\n",
    "\n",
    "# Process each chunk in parallel\n",
    "# results = []\n",
    "# for idx, chunk in enumerate(gdf_chunks):\n",
    "#     print(idx/len(gdf_chunks))\n",
    "#     result = chunk.compute()  # Process the chunk\n",
    "#     print(\"Type: \" + type(result))\n",
    "#     print(result.head())\n",
    "#     print(result.columns)\n",
    "#     print(\"Shape: \" + result.shape)\n",
    "#     # TODO process result\n",
    "#     results.append(result)\n",
    "#     if (idx > 3):\n",
    "#         break"
   ]
  },
  {
   "cell_type": "code",
   "execution_count": null,
   "metadata": {},
   "outputs": [],
   "source": [
    "print(\"Hi\")"
   ]
  },
  {
   "cell_type": "code",
   "execution_count": null,
   "metadata": {},
   "outputs": [],
   "source": [
    "# Concatenate the results\n",
    "# final_result = dask_gpd.concat(results)\n",
    "\n",
    "# final_result.to_file(resultpath + 'traffic_data_2023_2024_processed.geojson', driver='GeoJSON')\n",
    "\n",
    "# TODO save the final result"
   ]
  }
 ],
 "metadata": {
  "kernelspec": {
   "display_name": "Paris_Analysis",
   "language": "python",
   "name": "python3"
  },
  "language_info": {
   "codemirror_mode": {
    "name": "ipython",
    "version": 3
   },
   "file_extension": ".py",
   "mimetype": "text/x-python",
   "name": "python",
   "nbconvert_exporter": "python",
   "pygments_lexer": "ipython3",
   "version": "3.10.11"
  },
  "orig_nbformat": 4
 },
 "nbformat": 4,
 "nbformat_minor": 2
}
